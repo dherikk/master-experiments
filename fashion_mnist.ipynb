{
 "cells": [
  {
   "cell_type": "code",
   "execution_count": 1,
   "metadata": {},
   "outputs": [
    {
     "name": "stderr",
     "output_type": "stream",
     "text": [
      "2024-05-23 09:26:33.237008: I external/local_tsl/tsl/cuda/cudart_stub.cc:32] Could not find cuda drivers on your machine, GPU will not be used.\n",
      "2024-05-23 09:26:33.240204: I external/local_tsl/tsl/cuda/cudart_stub.cc:32] Could not find cuda drivers on your machine, GPU will not be used.\n",
      "2024-05-23 09:26:33.285491: I tensorflow/core/platform/cpu_feature_guard.cc:210] This TensorFlow binary is optimized to use available CPU instructions in performance-critical operations.\n",
      "To enable the following instructions: AVX2 FMA, in other operations, rebuild TensorFlow with the appropriate compiler flags.\n",
      "2024-05-23 09:26:34.046062: W tensorflow/compiler/tf2tensorrt/utils/py_utils.cc:38] TF-TRT Warning: Could not find TensorRT\n"
     ]
    }
   ],
   "source": [
    "import numpy as np\n",
    "import matplotlib.pyplot as plt\n",
    "import os\n",
    "from components.cnn_parallell import experiment4, experiment4_img, experiment6_img, experiment7_img, experiment8_img\n",
    "from sklearn.linear_model import LogisticRegression\n",
    "from sklearn.svm import SVC\n",
    "from sklearn.neighbors import KNeighborsClassifier\n",
    "from components.cnn_score import score_clfs_noisy\n",
    "from tensorflow import keras"
   ]
  },
  {
   "cell_type": "code",
   "execution_count": 2,
   "metadata": {},
   "outputs": [],
   "source": [
    "def save_coefficients(path: str, data: np.ndarray, exp: str):\n",
    "    folder = f\"coefficients/{path}\"\n",
    "    os.makedirs(folder, exist_ok=True)\n",
    "\n",
    "    file = f\"{folder}/{exp}.npy\"\n",
    "    np.save(file, data)\n",
    "    print(f\"{file} saved\")\n",
    "\n",
    "def load_coefficients(path: str, exp: str):\n",
    "    folder = f\"coefficients/{path}\"\n",
    "    file = np.load(f\"{folder}/{exp}.npy\")\n",
    "    return file"
   ]
  },
  {
   "cell_type": "code",
   "execution_count": 11,
   "metadata": {},
   "outputs": [],
   "source": [
    "(x_train, y_train), (x_test, y_test) = keras.datasets.fashion_mnist.load_data()"
   ]
  },
  {
   "cell_type": "code",
   "execution_count": 7,
   "metadata": {},
   "outputs": [
    {
     "data": {
      "image/png": "[encoded data removed]",
      "text/plain": [
       "<Figure size 1800x300 with 5 Axes>"
      ]
     },
     "metadata": {},
     "output_type": "display_data"
    }
   ],
   "source": [
    "fig, ax = plt.subplots(1, 5, figsize=(18, 3))\n",
    "for i in range(5): \n",
    "    ax[i].imshow(x_train[i], cmap=\"grey\")\n",
    "    ax[i].set_xticks(())\n",
    "    ax[i].set_yticks(())\n",
    "    ax[i].set_title(f\"Reference image {i}\")\n",
    "plt.tight_layout(pad=0.0)"
   ]
  },
  {
   "cell_type": "code",
   "execution_count": 8,
   "metadata": {},
   "outputs": [],
   "source": [
    "plt.rcParams[\"figure.figsize\"] = (4,3)"
   ]
  },
  {
   "cell_type": "code",
   "execution_count": 12,
   "metadata": {},
   "outputs": [],
   "source": [
    "data_train = x_train[:10000, 1:, 1:]\n",
    "data_test = x_test[:10000, 1:, 1:]\n",
    "\n",
    "y_train = y_train[:10000]\n",
    "y_test = y_test[:10000]"
   ]
  },
  {
   "cell_type": "code",
   "execution_count": 13,
   "metadata": {},
   "outputs": [],
   "source": [
    "noises = [.0, .1, .2, .3, .4, .5]\n",
    "\n",
    "noisy_test = [np.array([img + np.random.normal(.0, noise, size=(data_test[0].shape)) for img in data_test]) for noise in noises]\n",
    "noisy_test_flattened = [data.reshape(-1, 27*27) for data in noisy_test]\n",
    "\n",
    "train_flattened = data_train.reshape(-1, 27*27)\n",
    "\n",
    "experiments = [\n",
    "    \"Baseline - no threshold\",\n",
    "    \"Baseline - 0.7 threshold\",\n",
    "    \"Baseline - 0.85 threshold\",\n",
    "    \"Experiment 4 - only real filters\",\n",
    "    \"Experiment 4 - with imaginary filters\",\n",
    "    \"Experiment 6 - with imaginary filters\",\n",
    "    \"Experiment 7 - with imaginary filters\",\n",
    "    \"Experiment 8 - with imaginary filters\"\n",
    "]"
   ]
  },
  {
   "cell_type": "markdown",
   "metadata": {},
   "source": [
    "#### Baseline - LR - No thresholding"
   ]
  },
  {
   "cell_type": "code",
   "execution_count": 14,
   "metadata": {},
   "outputs": [],
   "source": [
    "scores_noisy_lr = []"
   ]
  },
  {
   "cell_type": "code",
   "execution_count": 15,
   "metadata": {},
   "outputs": [
    {
     "data": {
      "text/plain": [
       "[0.8242, 0.8247, 0.8241, 0.824, 0.8244, 0.8242]"
      ]
     },
     "execution_count": 15,
     "metadata": {},
     "output_type": "execute_result"
    }
   ],
   "source": [
    "clfs_bl = [LogisticRegression(fit_intercept=True,\n",
    "                              multi_class='multinomial',\n",
    "                              penalty='l2',\n",
    "                              solver='saga',\n",
    "                              max_iter=1000,\n",
    "                              n_jobs=8,\n",
    "                              tol=0.01) for _ in range(len(noises))]\n",
    "baseline_lr_scores = score_clfs_noisy(clfs_bl, train_flattened, y_train, noisy_test_flattened, y_test)\n",
    "scores_noisy_lr.append(baseline_lr_scores)\n",
    "baseline_lr_scores"
   ]
  },
  {
   "cell_type": "markdown",
   "metadata": {},
   "source": [
    "#### Baseline - LR - 0.7 thresholding"
   ]
  },
  {
   "cell_type": "code",
   "execution_count": 9,
   "metadata": {},
   "outputs": [
    {
     "data": {
      "text/plain": [
       "[0.8402, 0.8397, 0.8403, 0.8402, 0.8408, 0.8399]"
      ]
     },
     "execution_count": 9,
     "metadata": {},
     "output_type": "execute_result"
    }
   ],
   "source": [
    "clfs_bl_threshold1 = [LogisticRegression(fit_intercept=True,\n",
    "                                         multi_class='multinomial',\n",
    "                                         penalty='l2',\n",
    "                                         solver='saga',\n",
    "                                         max_iter=1000,\n",
    "                                         n_jobs=64,\n",
    "                                         tol=0.01) for _ in range(len(noises))]\n",
    "\n",
    "train_flattened_threshold1 = np.where(train_flattened > 0.7, train_flattened, 0.)\n",
    "noisy_test_flattened_threshold1 = [np.where(n > 0.7, n, 0.) for n in noisy_test_flattened]\n",
    "\n",
    "baseline_lr_scores_1 = score_clfs_noisy(clfs_bl_threshold1, \n",
    "                                        train_flattened_threshold1, \n",
    "                                        y_train, \n",
    "                                        noisy_test_flattened_threshold1, \n",
    "                                        y_test)\n",
    "\n",
    "scores_noisy_lr.append(baseline_lr_scores_1)\n",
    "baseline_lr_scores_1"
   ]
  },
  {
   "cell_type": "markdown",
   "metadata": {},
   "source": [
    "#### Baseline - LR - 0.85 thresholding"
   ]
  },
  {
   "cell_type": "code",
   "execution_count": 10,
   "metadata": {},
   "outputs": [
    {
     "data": {
      "text/plain": [
       "[0.8403, 0.84, 0.8404, 0.8404, 0.8406, 0.8404]"
      ]
     },
     "execution_count": 10,
     "metadata": {},
     "output_type": "execute_result"
    }
   ],
   "source": [
    "clfs_bl_threshold2 = [LogisticRegression(fit_intercept=True,\n",
    "                                         multi_class='multinomial',\n",
    "                                         penalty='l2',\n",
    "                                         solver='saga',\n",
    "                                         max_iter=1000,\n",
    "                                         n_jobs=64,\n",
    "                                         tol=0.01) for _ in range(len(noises))]\n",
    "\n",
    "train_flattened_threshold2 = np.where(train_flattened > 0.85, train_flattened, 0.)\n",
    "noisy_test_flattened_threshold2 = [np.where(n > 0.85, n, 0.) for n in noisy_test_flattened]\n",
    "\n",
    "baseline_lr_scores_2 = score_clfs_noisy(clfs_bl_threshold2, \n",
    "                                        train_flattened_threshold2, \n",
    "                                        y_train, \n",
    "                                        noisy_test_flattened_threshold2, \n",
    "                                        y_test)\n",
    "\n",
    "scores_noisy_lr.append(baseline_lr_scores_2)\n",
    "baseline_lr_scores_2"
   ]
  },
  {
   "cell_type": "markdown",
   "metadata": {},
   "source": [
    "#### Experiment 4 - Only real filters"
   ]
  },
  {
   "cell_type": "code",
   "execution_count": 11,
   "metadata": {},
   "outputs": [
    {
     "name": "stderr",
     "output_type": "stream",
     "text": [
      "/home/student/master-experiments/components/gaussian.py:17: RuntimeWarning: invalid value encountered in divide\n",
      "  -np.square(scale * np.where(norm > 0, (n + np.array([l1, l2]).reshape(-1, 1, 1)) / norm * log(norm + 1), 0.) - mu.reshape(-1, 1, 1)).sum(axis=0)\n",
      "/home/student/master-experiments/components/gaussian.py:17: RuntimeWarning: invalid value encountered in divide\n",
      "  -np.square(scale * np.where(norm > 0, (n + np.array([l1, l2]).reshape(-1, 1, 1)) / norm * log(norm + 1), 0.) - mu.reshape(-1, 1, 1)).sum(axis=0)\n",
      "/home/student/master-experiments/components/gaussian.py:17: RuntimeWarning: invalid value encountered in divide\n",
      "  -np.square(scale * np.where(norm > 0, (n + np.array([l1, l2]).reshape(-1, 1, 1)) / norm * log(norm + 1), 0.) - mu.reshape(-1, 1, 1)).sum(axis=0)\n",
      "/home/student/master-experiments/components/gaussian.py:17: RuntimeWarning: invalid value encountered in divide\n",
      "  -np.square(scale * np.where(norm > 0, (n + np.array([l1, l2]).reshape(-1, 1, 1)) / norm * log(norm + 1), 0.) - mu.reshape(-1, 1, 1)).sum(axis=0)\n",
      "/home/student/master-experiments/components/gaussian.py:17: RuntimeWarning: invalid value encountered in divide\n",
      "  -np.square(scale * np.where(norm > 0, (n + np.array([l1, l2]).reshape(-1, 1, 1)) / norm * log(norm + 1), 0.) - mu.reshape(-1, 1, 1)).sum(axis=0)\n",
      "/home/student/master-experiments/components/gaussian.py:17: RuntimeWarning: invalid value encountered in divide\n",
      "  -np.square(scale * np.where(norm > 0, (n + np.array([l1, l2]).reshape(-1, 1, 1)) / norm * log(norm + 1), 0.) - mu.reshape(-1, 1, 1)).sum(axis=0)\n",
      "/home/student/master-experiments/components/gaussian.py:17: RuntimeWarning: invalid value encountered in divide\n",
      "  -np.square(scale * np.where(norm > 0, (n + np.array([l1, l2]).reshape(-1, 1, 1)) / norm * log(norm + 1), 0.) - mu.reshape(-1, 1, 1)).sum(axis=0)\n",
      "/home/student/master-experiments/components/gaussian.py:17: RuntimeWarning: invalid value encountered in divide\n",
      "  -np.square(scale * np.where(norm > 0, (n + np.array([l1, l2]).reshape(-1, 1, 1)) / norm * log(norm + 1), 0.) - mu.reshape(-1, 1, 1)).sum(axis=0)\n",
      "/home/student/master-experiments/components/gaussian.py:17: RuntimeWarning: invalid value encountered in divide\n",
      "  -np.square(scale * np.where(norm > 0, (n + np.array([l1, l2]).reshape(-1, 1, 1)) / norm * log(norm + 1), 0.) - mu.reshape(-1, 1, 1)).sum(axis=0)\n",
      "/home/student/master-experiments/components/gaussian.py:17: RuntimeWarning: invalid value encountered in divide\n",
      "  -np.square(scale * np.where(norm > 0, (n + np.array([l1, l2]).reshape(-1, 1, 1)) / norm * log(norm + 1), 0.) - mu.reshape(-1, 1, 1)).sum(axis=0)\n",
      "/home/student/master-experiments/components/gaussian.py:17: RuntimeWarning: invalid value encountered in divide\n",
      "  -np.square(scale * np.where(norm > 0, (n + np.array([l1, l2]).reshape(-1, 1, 1)) / norm * log(norm + 1), 0.) - mu.reshape(-1, 1, 1)).sum(axis=0)\n",
      "/home/student/master-experiments/components/gaussian.py:17: RuntimeWarning: invalid value encountered in divide\n",
      "  -np.square(scale * np.where(norm > 0, (n + np.array([l1, l2]).reshape(-1, 1, 1)) / norm * log(norm + 1), 0.) - mu.reshape(-1, 1, 1)).sum(axis=0)\n",
      "/home/student/master-experiments/components/gaussian.py:17: RuntimeWarning: invalid value encountered in divide\n",
      "  -np.square(scale * np.where(norm > 0, (n + np.array([l1, l2]).reshape(-1, 1, 1)) / norm * log(norm + 1), 0.) - mu.reshape(-1, 1, 1)).sum(axis=0)\n",
      "/home/student/master-experiments/components/gaussian.py:17: RuntimeWarning: invalid value encountered in divide\n",
      "  -np.square(scale * np.where(norm > 0, (n + np.array([l1, l2]).reshape(-1, 1, 1)) / norm * log(norm + 1), 0.) - mu.reshape(-1, 1, 1)).sum(axis=0)\n",
      "/home/student/master-experiments/components/gaussian.py:17: RuntimeWarning: invalid value encountered in divide\n",
      "  -np.square(scale * np.where(norm > 0, (n + np.array([l1, l2]).reshape(-1, 1, 1)) / norm * log(norm + 1), 0.) - mu.reshape(-1, 1, 1)).sum(axis=0)\n",
      "/home/student/master-experiments/components/gaussian.py:17: RuntimeWarning: invalid value encountered in divide\n",
      "  -np.square(scale * np.where(norm > 0, (n + np.array([l1, l2]).reshape(-1, 1, 1)) / norm * log(norm + 1), 0.) - mu.reshape(-1, 1, 1)).sum(axis=0)\n",
      "/home/student/master-experiments/components/gaussian.py:17: RuntimeWarning: invalid value encountered in divide\n",
      "  -np.square(scale * np.where(norm > 0, (n + np.array([l1, l2]).reshape(-1, 1, 1)) / norm * log(norm + 1), 0.) - mu.reshape(-1, 1, 1)).sum(axis=0)\n",
      "/home/student/master-experiments/components/gaussian.py:17: RuntimeWarning: invalid value encountered in divide\n",
      "  -np.square(scale * np.where(norm > 0, (n + np.array([l1, l2]).reshape(-1, 1, 1)) / norm * log(norm + 1), 0.) - mu.reshape(-1, 1, 1)).sum(axis=0)\n",
      "/home/student/master-experiments/components/gaussian.py:17: RuntimeWarning: invalid value encountered in divide\n",
      "  -np.square(scale * np.where(norm > 0, (n + np.array([l1, l2]).reshape(-1, 1, 1)) / norm * log(norm + 1), 0.) - mu.reshape(-1, 1, 1)).sum(axis=0)\n",
      "/home/student/master-experiments/components/gaussian.py:17: RuntimeWarning: invalid value encountered in divide\n",
      "  -np.square(scale * np.where(norm > 0, (n + np.array([l1, l2]).reshape(-1, 1, 1)) / norm * log(norm + 1), 0.) - mu.reshape(-1, 1, 1)).sum(axis=0)\n",
      "/home/student/master-experiments/components/gaussian.py:17: RuntimeWarning: invalid value encountered in divide\n",
      "  -np.square(scale * np.where(norm > 0, (n + np.array([l1, l2]).reshape(-1, 1, 1)) / norm * log(norm + 1), 0.) - mu.reshape(-1, 1, 1)).sum(axis=0)\n",
      "/home/student/master-experiments/components/gaussian.py:17: RuntimeWarning: invalid value encountered in divide\n",
      "  -np.square(scale * np.where(norm > 0, (n + np.array([l1, l2]).reshape(-1, 1, 1)) / norm * log(norm + 1), 0.) - mu.reshape(-1, 1, 1)).sum(axis=0)\n",
      "/home/student/master-experiments/components/gaussian.py:17: RuntimeWarning: invalid value encountered in divide\n",
      "  -np.square(scale * np.where(norm > 0, (n + np.array([l1, l2]).reshape(-1, 1, 1)) / norm * log(norm + 1), 0.) - mu.reshape(-1, 1, 1)).sum(axis=0)\n",
      "/home/student/master-experiments/components/gaussian.py:17: RuntimeWarning: invalid value encountered in divide\n",
      "  -np.square(scale * np.where(norm > 0, (n + np.array([l1, l2]).reshape(-1, 1, 1)) / norm * log(norm + 1), 0.) - mu.reshape(-1, 1, 1)).sum(axis=0)\n",
      "/home/student/master-experiments/components/gaussian.py:17: RuntimeWarning: invalid value encountered in divide\n",
      "  -np.square(scale * np.where(norm > 0, (n + np.array([l1, l2]).reshape(-1, 1, 1)) / norm * log(norm + 1), 0.) - mu.reshape(-1, 1, 1)).sum(axis=0)\n",
      "/home/student/master-experiments/components/gaussian.py:17: RuntimeWarning: invalid value encountered in divide\n",
      "  -np.square(scale * np.where(norm > 0, (n + np.array([l1, l2]).reshape(-1, 1, 1)) / norm * log(norm + 1), 0.) - mu.reshape(-1, 1, 1)).sum(axis=0)\n",
      "/home/student/master-experiments/components/gaussian.py:17: RuntimeWarning: invalid value encountered in divide\n",
      "  -np.square(scale * np.where(norm > 0, (n + np.array([l1, l2]).reshape(-1, 1, 1)) / norm * log(norm + 1), 0.) - mu.reshape(-1, 1, 1)).sum(axis=0)\n",
      "/home/student/master-experiments/components/gaussian.py:17: RuntimeWarning: invalid value encountered in divide\n",
      "  -np.square(scale * np.where(norm > 0, (n + np.array([l1, l2]).reshape(-1, 1, 1)) / norm * log(norm + 1), 0.) - mu.reshape(-1, 1, 1)).sum(axis=0)\n",
      "/home/student/master-experiments/components/gaussian.py:17: RuntimeWarning: invalid value encountered in divide\n",
      "  -np.square(scale * np.where(norm > 0, (n + np.array([l1, l2]).reshape(-1, 1, 1)) / norm * log(norm + 1), 0.) - mu.reshape(-1, 1, 1)).sum(axis=0)\n",
      "/home/student/master-experiments/components/gaussian.py:17: RuntimeWarning: invalid value encountered in divide\n",
      "  -np.square(scale * np.where(norm > 0, (n + np.array([l1, l2]).reshape(-1, 1, 1)) / norm * log(norm + 1), 0.) - mu.reshape(-1, 1, 1)).sum(axis=0)\n",
      "/home/student/master-experiments/components/gaussian.py:17: RuntimeWarning: invalid value encountered in divide\n",
      "  -np.square(scale * np.where(norm > 0, (n + np.array([l1, l2]).reshape(-1, 1, 1)) / norm * log(norm + 1), 0.) - mu.reshape(-1, 1, 1)).sum(axis=0)\n",
      "/home/student/master-experiments/components/gaussian.py:17: RuntimeWarning: invalid value encountered in divide\n",
      "  -np.square(scale * np.where(norm > 0, (n + np.array([l1, l2]).reshape(-1, 1, 1)) / norm * log(norm + 1), 0.) - mu.reshape(-1, 1, 1)).sum(axis=0)\n",
      "/home/student/master-experiments/components/gaussian.py:17: RuntimeWarning: invalid value encountered in divide\n",
      "  -np.square(scale * np.where(norm > 0, (n + np.array([l1, l2]).reshape(-1, 1, 1)) / norm * log(norm + 1), 0.) - mu.reshape(-1, 1, 1)).sum(axis=0)\n",
      "/home/student/master-experiments/components/gaussian.py:17: RuntimeWarning: invalid value encountered in divide\n",
      "  -np.square(scale * np.where(norm > 0, (n + np.array([l1, l2]).reshape(-1, 1, 1)) / norm * log(norm + 1), 0.) - mu.reshape(-1, 1, 1)).sum(axis=0)\n",
      "/home/student/master-experiments/components/gaussian.py:17: RuntimeWarning: invalid value encountered in divide\n",
      "  -np.square(scale * np.where(norm > 0, (n + np.array([l1, l2]).reshape(-1, 1, 1)) / norm * log(norm + 1), 0.) - mu.reshape(-1, 1, 1)).sum(axis=0)\n",
      "/home/student/master-experiments/components/gaussian.py:17: RuntimeWarning: invalid value encountered in divide\n",
      "  -np.square(scale * np.where(norm > 0, (n + np.array([l1, l2]).reshape(-1, 1, 1)) / norm * log(norm + 1), 0.) - mu.reshape(-1, 1, 1)).sum(axis=0)\n",
      "/home/student/master-experiments/components/gaussian.py:17: RuntimeWarning: invalid value encountered in divide\n",
      "  -np.square(scale * np.where(norm > 0, (n + np.array([l1, l2]).reshape(-1, 1, 1)) / norm * log(norm + 1), 0.) - mu.reshape(-1, 1, 1)).sum(axis=0)\n",
      "/home/student/master-experiments/components/gaussian.py:17: RuntimeWarning: invalid value encountered in divide\n",
      "  -np.square(scale * np.where(norm > 0, (n + np.array([l1, l2]).reshape(-1, 1, 1)) / norm * log(norm + 1), 0.) - mu.reshape(-1, 1, 1)).sum(axis=0)\n",
      "/home/student/master-experiments/components/gaussian.py:17: RuntimeWarning: invalid value encountered in divide\n",
      "  -np.square(scale * np.where(norm > 0, (n + np.array([l1, l2]).reshape(-1, 1, 1)) / norm * log(norm + 1), 0.) - mu.reshape(-1, 1, 1)).sum(axis=0)\n",
      "/home/student/master-experiments/components/gaussian.py:17: RuntimeWarning: invalid value encountered in divide\n",
      "  -np.square(scale * np.where(norm > 0, (n + np.array([l1, l2]).reshape(-1, 1, 1)) / norm * log(norm + 1), 0.) - mu.reshape(-1, 1, 1)).sum(axis=0)\n",
      "/home/student/master-experiments/components/gaussian.py:17: RuntimeWarning: invalid value encountered in divide\n",
      "  -np.square(scale * np.where(norm > 0, (n + np.array([l1, l2]).reshape(-1, 1, 1)) / norm * log(norm + 1), 0.) - mu.reshape(-1, 1, 1)).sum(axis=0)\n",
      "/home/student/master-experiments/components/gaussian.py:17: RuntimeWarning: invalid value encountered in divide\n",
      "  -np.square(scale * np.where(norm > 0, (n + np.array([l1, l2]).reshape(-1, 1, 1)) / norm * log(norm + 1), 0.) - mu.reshape(-1, 1, 1)).sum(axis=0)\n",
      "/home/student/master-experiments/components/gaussian.py:17: RuntimeWarning: invalid value encountered in divide\n",
      "  -np.square(scale * np.where(norm > 0, (n + np.array([l1, l2]).reshape(-1, 1, 1)) / norm * log(norm + 1), 0.) - mu.reshape(-1, 1, 1)).sum(axis=0)\n",
      "/home/student/master-experiments/components/gaussian.py:17: RuntimeWarning: invalid value encountered in divide\n",
      "  -np.square(scale * np.where(norm > 0, (n + np.array([l1, l2]).reshape(-1, 1, 1)) / norm * log(norm + 1), 0.) - mu.reshape(-1, 1, 1)).sum(axis=0)\n",
      "/home/student/master-experiments/components/gaussian.py:17: RuntimeWarning: invalid value encountered in divide\n",
      "  -np.square(scale * np.where(norm > 0, (n + np.array([l1, l2]).reshape(-1, 1, 1)) / norm * log(norm + 1), 0.) - mu.reshape(-1, 1, 1)).sum(axis=0)\n",
      "/home/student/master-experiments/components/gaussian.py:17: RuntimeWarning: invalid value encountered in divide\n",
      "  -np.square(scale * np.where(norm > 0, (n + np.array([l1, l2]).reshape(-1, 1, 1)) / norm * log(norm + 1), 0.) - mu.reshape(-1, 1, 1)).sum(axis=0)\n",
      "/home/student/master-experiments/components/gaussian.py:17: RuntimeWarning: invalid value encountered in divide\n",
      "  -np.square(scale * np.where(norm > 0, (n + np.array([l1, l2]).reshape(-1, 1, 1)) / norm * log(norm + 1), 0.) - mu.reshape(-1, 1, 1)).sum(axis=0)\n",
      "/home/student/master-experiments/components/gaussian.py:17: RuntimeWarning: invalid value encountered in divide\n",
      "  -np.square(scale * np.where(norm > 0, (n + np.array([l1, l2]).reshape(-1, 1, 1)) / norm * log(norm + 1), 0.) - mu.reshape(-1, 1, 1)).sum(axis=0)\n",
      "/home/student/master-experiments/components/gaussian.py:17: RuntimeWarning: invalid value encountered in divide\n",
      "  -np.square(scale * np.where(norm > 0, (n + np.array([l1, l2]).reshape(-1, 1, 1)) / norm * log(norm + 1), 0.) - mu.reshape(-1, 1, 1)).sum(axis=0)\n",
      "/home/student/master-experiments/components/gaussian.py:17: RuntimeWarning: invalid value encountered in divide\n",
      "  -np.square(scale * np.where(norm > 0, (n + np.array([l1, l2]).reshape(-1, 1, 1)) / norm * log(norm + 1), 0.) - mu.reshape(-1, 1, 1)).sum(axis=0)\n",
      "/home/student/master-experiments/components/gaussian.py:17: RuntimeWarning: invalid value encountered in divide\n",
      "  -np.square(scale * np.where(norm > 0, (n + np.array([l1, l2]).reshape(-1, 1, 1)) / norm * log(norm + 1), 0.) - mu.reshape(-1, 1, 1)).sum(axis=0)\n",
      "/home/student/master-experiments/components/gaussian.py:17: RuntimeWarning: invalid value encountered in divide\n",
      "  -np.square(scale * np.where(norm > 0, (n + np.array([l1, l2]).reshape(-1, 1, 1)) / norm * log(norm + 1), 0.) - mu.reshape(-1, 1, 1)).sum(axis=0)\n",
      "/home/student/master-experiments/components/gaussian.py:17: RuntimeWarning: invalid value encountered in divide\n",
      "  -np.square(scale * np.where(norm > 0, (n + np.array([l1, l2]).reshape(-1, 1, 1)) / norm * log(norm + 1), 0.) - mu.reshape(-1, 1, 1)).sum(axis=0)\n",
      "/home/student/master-experiments/components/gaussian.py:17: RuntimeWarning: invalid value encountered in divide\n",
      "  -np.square(scale * np.where(norm > 0, (n + np.array([l1, l2]).reshape(-1, 1, 1)) / norm * log(norm + 1), 0.) - mu.reshape(-1, 1, 1)).sum(axis=0)\n",
      "/home/student/master-experiments/components/gaussian.py:17: RuntimeWarning: invalid value encountered in divide\n",
      "  -np.square(scale * np.where(norm > 0, (n + np.array([l1, l2]).reshape(-1, 1, 1)) / norm * log(norm + 1), 0.) - mu.reshape(-1, 1, 1)).sum(axis=0)\n",
      "/home/student/master-experiments/components/gaussian.py:17: RuntimeWarning: invalid value encountered in divide\n",
      "  -np.square(scale * np.where(norm > 0, (n + np.array([l1, l2]).reshape(-1, 1, 1)) / norm * log(norm + 1), 0.) - mu.reshape(-1, 1, 1)).sum(axis=0)\n",
      "/home/student/master-experiments/components/gaussian.py:17: RuntimeWarning: invalid value encountered in divide\n",
      "  -np.square(scale * np.where(norm > 0, (n + np.array([l1, l2]).reshape(-1, 1, 1)) / norm * log(norm + 1), 0.) - mu.reshape(-1, 1, 1)).sum(axis=0)\n",
      "/home/student/master-experiments/components/gaussian.py:17: RuntimeWarning: invalid value encountered in divide\n",
      "  -np.square(scale * np.where(norm > 0, (n + np.array([l1, l2]).reshape(-1, 1, 1)) / norm * log(norm + 1), 0.) - mu.reshape(-1, 1, 1)).sum(axis=0)\n",
      "/home/student/master-experiments/components/gaussian.py:17: RuntimeWarning: invalid value encountered in divide\n",
      "  -np.square(scale * np.where(norm > 0, (n + np.array([l1, l2]).reshape(-1, 1, 1)) / norm * log(norm + 1), 0.) - mu.reshape(-1, 1, 1)).sum(axis=0)\n",
      "/home/student/master-experiments/components/gaussian.py:17: RuntimeWarning: invalid value encountered in divide\n",
      "  -np.square(scale * np.where(norm > 0, (n + np.array([l1, l2]).reshape(-1, 1, 1)) / norm * log(norm + 1), 0.) - mu.reshape(-1, 1, 1)).sum(axis=0)\n",
      "/home/student/master-experiments/components/gaussian.py:17: RuntimeWarning: invalid value encountered in divide\n",
      "  -np.square(scale * np.where(norm > 0, (n + np.array([l1, l2]).reshape(-1, 1, 1)) / norm * log(norm + 1), 0.) - mu.reshape(-1, 1, 1)).sum(axis=0)\n",
      "/home/student/master-experiments/components/gaussian.py:17: RuntimeWarning: invalid value encountered in divide\n",
      "  -np.square(scale * np.where(norm > 0, (n + np.array([l1, l2]).reshape(-1, 1, 1)) / norm * log(norm + 1), 0.) - mu.reshape(-1, 1, 1)).sum(axis=0)\n",
      "/home/student/master-experiments/components/gaussian.py:17: RuntimeWarning: invalid value encountered in divide\n",
      "  -np.square(scale * np.where(norm > 0, (n + np.array([l1, l2]).reshape(-1, 1, 1)) / norm * log(norm + 1), 0.) - mu.reshape(-1, 1, 1)).sum(axis=0)\n",
      "/home/student/master-experiments/components/gaussian.py:17: RuntimeWarning: invalid value encountered in divide\n",
      "  -np.square(scale * np.where(norm > 0, (n + np.array([l1, l2]).reshape(-1, 1, 1)) / norm * log(norm + 1), 0.) - mu.reshape(-1, 1, 1)).sum(axis=0)\n",
      "/home/student/master-experiments/components/gaussian.py:17: RuntimeWarning: invalid value encountered in divide\n",
      "  -np.square(scale * np.where(norm > 0, (n + np.array([l1, l2]).reshape(-1, 1, 1)) / norm * log(norm + 1), 0.) - mu.reshape(-1, 1, 1)).sum(axis=0)\n",
      "/home/student/master-experiments/components/gaussian.py:17: RuntimeWarning: invalid value encountered in divide\n",
      "  -np.square(scale * np.where(norm > 0, (n + np.array([l1, l2]).reshape(-1, 1, 1)) / norm * log(norm + 1), 0.) - mu.reshape(-1, 1, 1)).sum(axis=0)\n",
      "/home/student/master-experiments/components/gaussian.py:17: RuntimeWarning: invalid value encountered in divide\n",
      "  -np.square(scale * np.where(norm > 0, (n + np.array([l1, l2]).reshape(-1, 1, 1)) / norm * log(norm + 1), 0.) - mu.reshape(-1, 1, 1)).sum(axis=0)\n",
      "/home/student/master-experiments/components/gaussian.py:17: RuntimeWarning: invalid value encountered in divide\n",
      "  -np.square(scale * np.where(norm > 0, (n + np.array([l1, l2]).reshape(-1, 1, 1)) / norm * log(norm + 1), 0.) - mu.reshape(-1, 1, 1)).sum(axis=0)\n",
      "/home/student/master-experiments/components/gaussian.py:17: RuntimeWarning: invalid value encountered in divide\n",
      "  -np.square(scale * np.where(norm > 0, (n + np.array([l1, l2]).reshape(-1, 1, 1)) / norm * log(norm + 1), 0.) - mu.reshape(-1, 1, 1)).sum(axis=0)\n",
      "/home/student/master-experiments/components/gaussian.py:17: RuntimeWarning: invalid value encountered in divide\n",
      "  -np.square(scale * np.where(norm > 0, (n + np.array([l1, l2]).reshape(-1, 1, 1)) / norm * log(norm + 1), 0.) - mu.reshape(-1, 1, 1)).sum(axis=0)\n",
      "/home/student/master-experiments/components/gaussian.py:17: RuntimeWarning: invalid value encountered in divide\n",
      "  -np.square(scale * np.where(norm > 0, (n + np.array([l1, l2]).reshape(-1, 1, 1)) / norm * log(norm + 1), 0.) - mu.reshape(-1, 1, 1)).sum(axis=0)\n",
      "/home/student/master-experiments/components/gaussian.py:17: RuntimeWarning: invalid value encountered in divide\n",
      "  -np.square(scale * np.where(norm > 0, (n + np.array([l1, l2]).reshape(-1, 1, 1)) / norm * log(norm + 1), 0.) - mu.reshape(-1, 1, 1)).sum(axis=0)\n",
      "/home/student/master-experiments/components/gaussian.py:17: RuntimeWarning: invalid value encountered in divide\n",
      "  -np.square(scale * np.where(norm > 0, (n + np.array([l1, l2]).reshape(-1, 1, 1)) / norm * log(norm + 1), 0.) - mu.reshape(-1, 1, 1)).sum(axis=0)\n",
      "/home/student/master-experiments/components/gaussian.py:17: RuntimeWarning: invalid value encountered in divide\n",
      "  -np.square(scale * np.where(norm > 0, (n + np.array([l1, l2]).reshape(-1, 1, 1)) / norm * log(norm + 1), 0.) - mu.reshape(-1, 1, 1)).sum(axis=0)\n",
      "/home/student/master-experiments/components/gaussian.py:17: RuntimeWarning: invalid value encountered in divide\n",
      "  -np.square(scale * np.where(norm > 0, (n + np.array([l1, l2]).reshape(-1, 1, 1)) / norm * log(norm + 1), 0.) - mu.reshape(-1, 1, 1)).sum(axis=0)\n",
      "/home/student/master-experiments/components/gaussian.py:17: RuntimeWarning: invalid value encountered in divide\n",
      "  -np.square(scale * np.where(norm > 0, (n + np.array([l1, l2]).reshape(-1, 1, 1)) / norm * log(norm + 1), 0.) - mu.reshape(-1, 1, 1)).sum(axis=0)\n",
      "/home/student/master-experiments/components/gaussian.py:17: RuntimeWarning: invalid value encountered in divide\n",
      "  -np.square(scale * np.where(norm > 0, (n + np.array([l1, l2]).reshape(-1, 1, 1)) / norm * log(norm + 1), 0.) - mu.reshape(-1, 1, 1)).sum(axis=0)\n",
      "/home/student/master-experiments/components/gaussian.py:17: RuntimeWarning: invalid value encountered in divide\n",
      "  -np.square(scale * np.where(norm > 0, (n + np.array([l1, l2]).reshape(-1, 1, 1)) / norm * log(norm + 1), 0.) - mu.reshape(-1, 1, 1)).sum(axis=0)\n",
      "/home/student/master-experiments/components/gaussian.py:17: RuntimeWarning: invalid value encountered in divide\n",
      "  -np.square(scale * np.where(norm > 0, (n + np.array([l1, l2]).reshape(-1, 1, 1)) / norm * log(norm + 1), 0.) - mu.reshape(-1, 1, 1)).sum(axis=0)\n",
      "/home/student/master-experiments/components/gaussian.py:17: RuntimeWarning: invalid value encountered in divide\n",
      "  -np.square(scale * np.where(norm > 0, (n + np.array([l1, l2]).reshape(-1, 1, 1)) / norm * log(norm + 1), 0.) - mu.reshape(-1, 1, 1)).sum(axis=0)\n",
      "/home/student/master-experiments/components/gaussian.py:17: RuntimeWarning: invalid value encountered in divide\n",
      "  -np.square(scale * np.where(norm > 0, (n + np.array([l1, l2]).reshape(-1, 1, 1)) / norm * log(norm + 1), 0.) - mu.reshape(-1, 1, 1)).sum(axis=0)\n",
      "/home/student/master-experiments/components/gaussian.py:17: RuntimeWarning: invalid value encountered in divide\n",
      "  -np.square(scale * np.where(norm > 0, (n + np.array([l1, l2]).reshape(-1, 1, 1)) / norm * log(norm + 1), 0.) - mu.reshape(-1, 1, 1)).sum(axis=0)\n",
      "/home/student/master-experiments/components/gaussian.py:17: RuntimeWarning: invalid value encountered in divide\n",
      "  -np.square(scale * np.where(norm > 0, (n + np.array([l1, l2]).reshape(-1, 1, 1)) / norm * log(norm + 1), 0.) - mu.reshape(-1, 1, 1)).sum(axis=0)\n",
      "/home/student/master-experiments/components/gaussian.py:17: RuntimeWarning: invalid value encountered in divide\n",
      "  -np.square(scale * np.where(norm > 0, (n + np.array([l1, l2]).reshape(-1, 1, 1)) / norm * log(norm + 1), 0.) - mu.reshape(-1, 1, 1)).sum(axis=0)\n",
      "/home/student/master-experiments/components/gaussian.py:17: RuntimeWarning: invalid value encountered in divide\n",
      "  -np.square(scale * np.where(norm > 0, (n + np.array([l1, l2]).reshape(-1, 1, 1)) / norm * log(norm + 1), 0.) - mu.reshape(-1, 1, 1)).sum(axis=0)\n",
      "/home/student/master-experiments/components/gaussian.py:17: RuntimeWarning: invalid value encountered in divide\n",
      "  -np.square(scale * np.where(norm > 0, (n + np.array([l1, l2]).reshape(-1, 1, 1)) / norm * log(norm + 1), 0.) - mu.reshape(-1, 1, 1)).sum(axis=0)\n",
      "/home/student/master-experiments/components/gaussian.py:17: RuntimeWarning: invalid value encountered in divide\n",
      "  -np.square(scale * np.where(norm > 0, (n + np.array([l1, l2]).reshape(-1, 1, 1)) / norm * log(norm + 1), 0.) - mu.reshape(-1, 1, 1)).sum(axis=0)\n",
      "/home/student/master-experiments/components/gaussian.py:17: RuntimeWarning: invalid value encountered in divide\n",
      "  -np.square(scale * np.where(norm > 0, (n + np.array([l1, l2]).reshape(-1, 1, 1)) / norm * log(norm + 1), 0.) - mu.reshape(-1, 1, 1)).sum(axis=0)\n",
      "/home/student/master-experiments/components/gaussian.py:17: RuntimeWarning: invalid value encountered in divide\n",
      "  -np.square(scale * np.where(norm > 0, (n + np.array([l1, l2]).reshape(-1, 1, 1)) / norm * log(norm + 1), 0.) - mu.reshape(-1, 1, 1)).sum(axis=0)\n",
      "/home/student/master-experiments/components/gaussian.py:17: RuntimeWarning: invalid value encountered in divide\n",
      "  -np.square(scale * np.where(norm > 0, (n + np.array([l1, l2]).reshape(-1, 1, 1)) / norm * log(norm + 1), 0.) - mu.reshape(-1, 1, 1)).sum(axis=0)\n",
      "/home/student/master-experiments/components/gaussian.py:17: RuntimeWarning: invalid value encountered in divide\n",
      "  -np.square(scale * np.where(norm > 0, (n + np.array([l1, l2]).reshape(-1, 1, 1)) / norm * log(norm + 1), 0.) - mu.reshape(-1, 1, 1)).sum(axis=0)\n",
      "/home/student/master-experiments/components/gaussian.py:17: RuntimeWarning: invalid value encountered in divide\n",
      "  -np.square(scale * np.where(norm > 0, (n + np.array([l1, l2]).reshape(-1, 1, 1)) / norm * log(norm + 1), 0.) - mu.reshape(-1, 1, 1)).sum(axis=0)\n",
      "/home/student/master-experiments/components/gaussian.py:17: RuntimeWarning: invalid value encountered in divide\n",
      "  -np.square(scale * np.where(norm > 0, (n + np.array([l1, l2]).reshape(-1, 1, 1)) / norm * log(norm + 1), 0.) - mu.reshape(-1, 1, 1)).sum(axis=0)\n",
      "/home/student/master-experiments/components/gaussian.py:17: RuntimeWarning: invalid value encountered in divide\n",
      "  -np.square(scale * np.where(norm > 0, (n + np.array([l1, l2]).reshape(-1, 1, 1)) / norm * log(norm + 1), 0.) - mu.reshape(-1, 1, 1)).sum(axis=0)\n",
      "/home/student/master-experiments/components/gaussian.py:17: RuntimeWarning: invalid value encountered in divide\n",
      "  -np.square(scale * np.where(norm > 0, (n + np.array([l1, l2]).reshape(-1, 1, 1)) / norm * log(norm + 1), 0.) - mu.reshape(-1, 1, 1)).sum(axis=0)\n",
      "/home/student/master-experiments/components/gaussian.py:17: RuntimeWarning: invalid value encountered in divide\n",
      "  -np.square(scale * np.where(norm > 0, (n + np.array([l1, l2]).reshape(-1, 1, 1)) / norm * log(norm + 1), 0.) - mu.reshape(-1, 1, 1)).sum(axis=0)\n",
      "/home/student/master-experiments/components/gaussian.py:17: RuntimeWarning: invalid value encountered in divide\n",
      "  -np.square(scale * np.where(norm > 0, (n + np.array([l1, l2]).reshape(-1, 1, 1)) / norm * log(norm + 1), 0.) - mu.reshape(-1, 1, 1)).sum(axis=0)\n",
      "/home/student/master-experiments/components/gaussian.py:17: RuntimeWarning: invalid value encountered in divide\n",
      "  -np.square(scale * np.where(norm > 0, (n + np.array([l1, l2]).reshape(-1, 1, 1)) / norm * log(norm + 1), 0.) - mu.reshape(-1, 1, 1)).sum(axis=0)\n",
      "/home/student/master-experiments/components/gaussian.py:17: RuntimeWarning: invalid value encountered in divide\n",
      "  -np.square(scale * np.where(norm > 0, (n + np.array([l1, l2]).reshape(-1, 1, 1)) / norm * log(norm + 1), 0.) - mu.reshape(-1, 1, 1)).sum(axis=0)\n",
      "/home/student/master-experiments/components/gaussian.py:17: RuntimeWarning: invalid value encountered in divide\n",
      "  -np.square(scale * np.where(norm > 0, (n + np.array([l1, l2]).reshape(-1, 1, 1)) / norm * log(norm + 1), 0.) - mu.reshape(-1, 1, 1)).sum(axis=0)\n",
      "/home/student/master-experiments/components/gaussian.py:17: RuntimeWarning: invalid value encountered in divide\n",
      "  -np.square(scale * np.where(norm > 0, (n + np.array([l1, l2]).reshape(-1, 1, 1)) / norm * log(norm + 1), 0.) - mu.reshape(-1, 1, 1)).sum(axis=0)\n",
      "/home/student/master-experiments/components/gaussian.py:17: RuntimeWarning: invalid value encountered in divide\n",
      "  -np.square(scale * np.where(norm > 0, (n + np.array([l1, l2]).reshape(-1, 1, 1)) / norm * log(norm + 1), 0.) - mu.reshape(-1, 1, 1)).sum(axis=0)\n",
      "/home/student/master-experiments/components/gaussian.py:17: RuntimeWarning: invalid value encountered in divide\n",
      "  -np.square(scale * np.where(norm > 0, (n + np.array([l1, l2]).reshape(-1, 1, 1)) / norm * log(norm + 1), 0.) - mu.reshape(-1, 1, 1)).sum(axis=0)\n",
      "/home/student/master-experiments/components/gaussian.py:17: RuntimeWarning: invalid value encountered in divide\n",
      "  -np.square(scale * np.where(norm > 0, (n + np.array([l1, l2]).reshape(-1, 1, 1)) / norm * log(norm + 1), 0.) - mu.reshape(-1, 1, 1)).sum(axis=0)\n",
      "/home/student/master-experiments/components/gaussian.py:17: RuntimeWarning: invalid value encountered in divide\n",
      "  -np.square(scale * np.where(norm > 0, (n + np.array([l1, l2]).reshape(-1, 1, 1)) / norm * log(norm + 1), 0.) - mu.reshape(-1, 1, 1)).sum(axis=0)\n",
      "/home/student/master-experiments/components/gaussian.py:17: RuntimeWarning: invalid value encountered in divide\n",
      "  -np.square(scale * np.where(norm > 0, (n + np.array([l1, l2]).reshape(-1, 1, 1)) / norm * log(norm + 1), 0.) - mu.reshape(-1, 1, 1)).sum(axis=0)\n",
      "/home/student/master-experiments/components/gaussian.py:17: RuntimeWarning: invalid value encountered in divide\n",
      "  -np.square(scale * np.where(norm > 0, (n + np.array([l1, l2]).reshape(-1, 1, 1)) / norm * log(norm + 1), 0.) - mu.reshape(-1, 1, 1)).sum(axis=0)\n",
      "/home/student/master-experiments/components/gaussian.py:17: RuntimeWarning: invalid value encountered in divide\n",
      "  -np.square(scale * np.where(norm > 0, (n + np.array([l1, l2]).reshape(-1, 1, 1)) / norm * log(norm + 1), 0.) - mu.reshape(-1, 1, 1)).sum(axis=0)\n",
      "/home/student/master-experiments/components/gaussian.py:17: RuntimeWarning: invalid value encountered in divide\n",
      "  -np.square(scale * np.where(norm > 0, (n + np.array([l1, l2]).reshape(-1, 1, 1)) / norm * log(norm + 1), 0.) - mu.reshape(-1, 1, 1)).sum(axis=0)\n",
      "/home/student/master-experiments/components/gaussian.py:17: RuntimeWarning: invalid value encountered in divide\n",
      "  -np.square(scale * np.where(norm > 0, (n + np.array([l1, l2]).reshape(-1, 1, 1)) / norm * log(norm + 1), 0.) - mu.reshape(-1, 1, 1)).sum(axis=0)\n",
      "/home/student/master-experiments/components/gaussian.py:17: RuntimeWarning: invalid value encountered in divide\n",
      "  -np.square(scale * np.where(norm > 0, (n + np.array([l1, l2]).reshape(-1, 1, 1)) / norm * log(norm + 1), 0.) - mu.reshape(-1, 1, 1)).sum(axis=0)\n",
      "/home/student/master-experiments/components/gaussian.py:17: RuntimeWarning: invalid value encountered in divide\n",
      "  -np.square(scale * np.where(norm > 0, (n + np.array([l1, l2]).reshape(-1, 1, 1)) / norm * log(norm + 1), 0.) - mu.reshape(-1, 1, 1)).sum(axis=0)\n",
      "/home/student/master-experiments/components/gaussian.py:17: RuntimeWarning: invalid value encountered in divide\n",
      "  -np.square(scale * np.where(norm > 0, (n + np.array([l1, l2]).reshape(-1, 1, 1)) / norm * log(norm + 1), 0.) - mu.reshape(-1, 1, 1)).sum(axis=0)\n",
      "/home/student/master-experiments/components/gaussian.py:17: RuntimeWarning: invalid value encountered in divide\n",
      "  -np.square(scale * np.where(norm > 0, (n + np.array([l1, l2]).reshape(-1, 1, 1)) / norm * log(norm + 1), 0.) - mu.reshape(-1, 1, 1)).sum(axis=0)\n",
      "/home/student/master-experiments/components/gaussian.py:17: RuntimeWarning: invalid value encountered in divide\n",
      "  -np.square(scale * np.where(norm > 0, (n + np.array([l1, l2]).reshape(-1, 1, 1)) / norm * log(norm + 1), 0.) - mu.reshape(-1, 1, 1)).sum(axis=0)\n",
      "/home/student/master-experiments/components/gaussian.py:17: RuntimeWarning: invalid value encountered in divide\n",
      "  -np.square(scale * np.where(norm > 0, (n + np.array([l1, l2]).reshape(-1, 1, 1)) / norm * log(norm + 1), 0.) - mu.reshape(-1, 1, 1)).sum(axis=0)\n",
      "/home/student/master-experiments/components/gaussian.py:17: RuntimeWarning: invalid value encountered in divide\n",
      "  -np.square(scale * np.where(norm > 0, (n + np.array([l1, l2]).reshape(-1, 1, 1)) / norm * log(norm + 1), 0.) - mu.reshape(-1, 1, 1)).sum(axis=0)\n",
      "/home/student/master-experiments/components/gaussian.py:17: RuntimeWarning: invalid value encountered in divide\n",
      "  -np.square(scale * np.where(norm > 0, (n + np.array([l1, l2]).reshape(-1, 1, 1)) / norm * log(norm + 1), 0.) - mu.reshape(-1, 1, 1)).sum(axis=0)\n",
      "/home/student/master-experiments/components/gaussian.py:17: RuntimeWarning: invalid value encountered in divide\n",
      "  -np.square(scale * np.where(norm > 0, (n + np.array([l1, l2]).reshape(-1, 1, 1)) / norm * log(norm + 1), 0.) - mu.reshape(-1, 1, 1)).sum(axis=0)\n",
      "/home/student/master-experiments/components/gaussian.py:17: RuntimeWarning: invalid value encountered in divide\n",
      "  -np.square(scale * np.where(norm > 0, (n + np.array([l1, l2]).reshape(-1, 1, 1)) / norm * log(norm + 1), 0.) - mu.reshape(-1, 1, 1)).sum(axis=0)\n",
      "/home/student/master-experiments/components/gaussian.py:17: RuntimeWarning: invalid value encountered in divide\n",
      "  -np.square(scale * np.where(norm > 0, (n + np.array([l1, l2]).reshape(-1, 1, 1)) / norm * log(norm + 1), 0.) - mu.reshape(-1, 1, 1)).sum(axis=0)\n",
      "/home/student/master-experiments/components/gaussian.py:17: RuntimeWarning: invalid value encountered in divide\n",
      "  -np.square(scale * np.where(norm > 0, (n + np.array([l1, l2]).reshape(-1, 1, 1)) / norm * log(norm + 1), 0.) - mu.reshape(-1, 1, 1)).sum(axis=0)\n",
      "/home/student/master-experiments/components/gaussian.py:17: RuntimeWarning: invalid value encountered in divide\n",
      "  -np.square(scale * np.where(norm > 0, (n + np.array([l1, l2]).reshape(-1, 1, 1)) / norm * log(norm + 1), 0.) - mu.reshape(-1, 1, 1)).sum(axis=0)\n",
      "/home/student/master-experiments/components/gaussian.py:17: RuntimeWarning: invalid value encountered in divide\n",
      "  -np.square(scale * np.where(norm > 0, (n + np.array([l1, l2]).reshape(-1, 1, 1)) / norm * log(norm + 1), 0.) - mu.reshape(-1, 1, 1)).sum(axis=0)\n",
      "/home/student/master-experiments/components/gaussian.py:17: RuntimeWarning: invalid value encountered in divide\n",
      "  -np.square(scale * np.where(norm > 0, (n + np.array([l1, l2]).reshape(-1, 1, 1)) / norm * log(norm + 1), 0.) - mu.reshape(-1, 1, 1)).sum(axis=0)\n",
      "/home/student/master-experiments/components/gaussian.py:17: RuntimeWarning: invalid value encountered in divide\n",
      "  -np.square(scale * np.where(norm > 0, (n + np.array([l1, l2]).reshape(-1, 1, 1)) / norm * log(norm + 1), 0.) - mu.reshape(-1, 1, 1)).sum(axis=0)\n",
      "/home/student/master-experiments/components/gaussian.py:17: RuntimeWarning: invalid value encountered in divide\n",
      "  -np.square(scale * np.where(norm > 0, (n + np.array([l1, l2]).reshape(-1, 1, 1)) / norm * log(norm + 1), 0.) - mu.reshape(-1, 1, 1)).sum(axis=0)\n",
      "/home/student/master-experiments/components/gaussian.py:17: RuntimeWarning: invalid value encountered in divide\n",
      "  -np.square(scale * np.where(norm > 0, (n + np.array([l1, l2]).reshape(-1, 1, 1)) / norm * log(norm + 1), 0.) - mu.reshape(-1, 1, 1)).sum(axis=0)\n",
      "/home/student/master-experiments/components/gaussian.py:17: RuntimeWarning: invalid value encountered in divide\n",
      "  -np.square(scale * np.where(norm > 0, (n + np.array([l1, l2]).reshape(-1, 1, 1)) / norm * log(norm + 1), 0.) - mu.reshape(-1, 1, 1)).sum(axis=0)\n",
      "/home/student/master-experiments/components/gaussian.py:17: RuntimeWarning: invalid value encountered in divide\n",
      "  -np.square(scale * np.where(norm > 0, (n + np.array([l1, l2]).reshape(-1, 1, 1)) / norm * log(norm + 1), 0.) - mu.reshape(-1, 1, 1)).sum(axis=0)\n",
      "/home/student/master-experiments/components/gaussian.py:17: RuntimeWarning: invalid value encountered in divide\n",
      "  -np.square(scale * np.where(norm > 0, (n + np.array([l1, l2]).reshape(-1, 1, 1)) / norm * log(norm + 1), 0.) - mu.reshape(-1, 1, 1)).sum(axis=0)\n",
      "/home/student/master-experiments/components/gaussian.py:17: RuntimeWarning: invalid value encountered in divide\n",
      "  -np.square(scale * np.where(norm > 0, (n + np.array([l1, l2]).reshape(-1, 1, 1)) / norm * log(norm + 1), 0.) - mu.reshape(-1, 1, 1)).sum(axis=0)\n",
      "/home/student/master-experiments/components/gaussian.py:17: RuntimeWarning: invalid value encountered in divide\n",
      "  -np.square(scale * np.where(norm > 0, (n + np.array([l1, l2]).reshape(-1, 1, 1)) / norm * log(norm + 1), 0.) - mu.reshape(-1, 1, 1)).sum(axis=0)\n",
      "/home/student/master-experiments/components/gaussian.py:17: RuntimeWarning: invalid value encountered in divide\n",
      "  -np.square(scale * np.where(norm > 0, (n + np.array([l1, l2]).reshape(-1, 1, 1)) / norm * log(norm + 1), 0.) - mu.reshape(-1, 1, 1)).sum(axis=0)\n",
      "/home/student/master-experiments/components/gaussian.py:17: RuntimeWarning: invalid value encountered in divide\n",
      "  -np.square(scale * np.where(norm > 0, (n + np.array([l1, l2]).reshape(-1, 1, 1)) / norm * log(norm + 1), 0.) - mu.reshape(-1, 1, 1)).sum(axis=0)\n",
      "/home/student/master-experiments/components/gaussian.py:17: RuntimeWarning: invalid value encountered in divide\n",
      "  -np.square(scale * np.where(norm > 0, (n + np.array([l1, l2]).reshape(-1, 1, 1)) / norm * log(norm + 1), 0.) - mu.reshape(-1, 1, 1)).sum(axis=0)\n",
      "/home/student/master-experiments/components/gaussian.py:17: RuntimeWarning: invalid value encountered in divide\n",
      "  -np.square(scale * np.where(norm > 0, (n + np.array([l1, l2]).reshape(-1, 1, 1)) / norm * log(norm + 1), 0.) - mu.reshape(-1, 1, 1)).sum(axis=0)\n",
      "/home/student/master-experiments/components/gaussian.py:17: RuntimeWarning: invalid value encountered in divide\n",
      "  -np.square(scale * np.where(norm > 0, (n + np.array([l1, l2]).reshape(-1, 1, 1)) / norm * log(norm + 1), 0.) - mu.reshape(-1, 1, 1)).sum(axis=0)\n",
      "/home/student/master-experiments/components/gaussian.py:17: RuntimeWarning: invalid value encountered in divide\n",
      "  -np.square(scale * np.where(norm > 0, (n + np.array([l1, l2]).reshape(-1, 1, 1)) / norm * log(norm + 1), 0.) - mu.reshape(-1, 1, 1)).sum(axis=0)\n",
      "/home/student/master-experiments/components/gaussian.py:17: RuntimeWarning: invalid value encountered in divide\n",
      "  -np.square(scale * np.where(norm > 0, (n + np.array([l1, l2]).reshape(-1, 1, 1)) / norm * log(norm + 1), 0.) - mu.reshape(-1, 1, 1)).sum(axis=0)\n",
      "/home/student/master-experiments/components/gaussian.py:17: RuntimeWarning: invalid value encountered in divide\n",
      "  -np.square(scale * np.where(norm > 0, (n + np.array([l1, l2]).reshape(-1, 1, 1)) / norm * log(norm + 1), 0.) - mu.reshape(-1, 1, 1)).sum(axis=0)\n",
      "/home/student/master-experiments/components/gaussian.py:17: RuntimeWarning: invalid value encountered in divide\n",
      "  -np.square(scale * np.where(norm > 0, (n + np.array([l1, l2]).reshape(-1, 1, 1)) / norm * log(norm + 1), 0.) - mu.reshape(-1, 1, 1)).sum(axis=0)\n",
      "/home/student/master-experiments/components/gaussian.py:17: RuntimeWarning: invalid value encountered in divide\n",
      "  -np.square(scale * np.where(norm > 0, (n + np.array([l1, l2]).reshape(-1, 1, 1)) / norm * log(norm + 1), 0.) - mu.reshape(-1, 1, 1)).sum(axis=0)\n",
      "/home/student/master-experiments/components/gaussian.py:17: RuntimeWarning: invalid value encountered in divide\n",
      "  -np.square(scale * np.where(norm > 0, (n + np.array([l1, l2]).reshape(-1, 1, 1)) / norm * log(norm + 1), 0.) - mu.reshape(-1, 1, 1)).sum(axis=0)\n",
      "/home/student/master-experiments/components/gaussian.py:17: RuntimeWarning: invalid value encountered in divide\n",
      "  -np.square(scale * np.where(norm > 0, (n + np.array([l1, l2]).reshape(-1, 1, 1)) / norm * log(norm + 1), 0.) - mu.reshape(-1, 1, 1)).sum(axis=0)\n",
      "/home/student/master-experiments/components/gaussian.py:17: RuntimeWarning: invalid value encountered in divide\n",
      "  -np.square(scale * np.where(norm > 0, (n + np.array([l1, l2]).reshape(-1, 1, 1)) / norm * log(norm + 1), 0.) - mu.reshape(-1, 1, 1)).sum(axis=0)\n",
      "/home/student/master-experiments/components/gaussian.py:17: RuntimeWarning: invalid value encountered in divide\n",
      "  -np.square(scale * np.where(norm > 0, (n + np.array([l1, l2]).reshape(-1, 1, 1)) / norm * log(norm + 1), 0.) - mu.reshape(-1, 1, 1)).sum(axis=0)\n",
      "/home/student/master-experiments/components/gaussian.py:17: RuntimeWarning: invalid value encountered in divide\n",
      "  -np.square(scale * np.where(norm > 0, (n + np.array([l1, l2]).reshape(-1, 1, 1)) / norm * log(norm + 1), 0.) - mu.reshape(-1, 1, 1)).sum(axis=0)\n",
      "/home/student/master-experiments/components/gaussian.py:17: RuntimeWarning: invalid value encountered in divide\n",
      "  -np.square(scale * np.where(norm > 0, (n + np.array([l1, l2]).reshape(-1, 1, 1)) / norm * log(norm + 1), 0.) - mu.reshape(-1, 1, 1)).sum(axis=0)\n",
      "/home/student/master-experiments/components/gaussian.py:17: RuntimeWarning: invalid value encountered in divide\n",
      "  -np.square(scale * np.where(norm > 0, (n + np.array([l1, l2]).reshape(-1, 1, 1)) / norm * log(norm + 1), 0.) - mu.reshape(-1, 1, 1)).sum(axis=0)\n",
      "/home/student/master-experiments/components/gaussian.py:17: RuntimeWarning: invalid value encountered in divide\n",
      "  -np.square(scale * np.where(norm > 0, (n + np.array([l1, l2]).reshape(-1, 1, 1)) / norm * log(norm + 1), 0.) - mu.reshape(-1, 1, 1)).sum(axis=0)\n",
      "/home/student/master-experiments/components/gaussian.py:17: RuntimeWarning: invalid value encountered in divide\n",
      "  -np.square(scale * np.where(norm > 0, (n + np.array([l1, l2]).reshape(-1, 1, 1)) / norm * log(norm + 1), 0.) - mu.reshape(-1, 1, 1)).sum(axis=0)\n",
      "/home/student/master-experiments/components/gaussian.py:17: RuntimeWarning: invalid value encountered in divide\n",
      "  -np.square(scale * np.where(norm > 0, (n + np.array([l1, l2]).reshape(-1, 1, 1)) / norm * log(norm + 1), 0.) - mu.reshape(-1, 1, 1)).sum(axis=0)\n",
      "/home/student/master-experiments/components/gaussian.py:17: RuntimeWarning: invalid value encountered in divide\n",
      "  -np.square(scale * np.where(norm > 0, (n + np.array([l1, l2]).reshape(-1, 1, 1)) / norm * log(norm + 1), 0.) - mu.reshape(-1, 1, 1)).sum(axis=0)\n",
      "/home/student/master-experiments/components/gaussian.py:17: RuntimeWarning: invalid value encountered in divide\n",
      "  -np.square(scale * np.where(norm > 0, (n + np.array([l1, l2]).reshape(-1, 1, 1)) / norm * log(norm + 1), 0.) - mu.reshape(-1, 1, 1)).sum(axis=0)\n",
      "/home/student/master-experiments/components/gaussian.py:17: RuntimeWarning: invalid value encountered in divide\n",
      "  -np.square(scale * np.where(norm > 0, (n + np.array([l1, l2]).reshape(-1, 1, 1)) / norm * log(norm + 1), 0.) - mu.reshape(-1, 1, 1)).sum(axis=0)\n",
      "/home/student/master-experiments/components/gaussian.py:17: RuntimeWarning: invalid value encountered in divide\n",
      "  -np.square(scale * np.where(norm > 0, (n + np.array([l1, l2]).reshape(-1, 1, 1)) / norm * log(norm + 1), 0.) - mu.reshape(-1, 1, 1)).sum(axis=0)\n",
      "/home/student/master-experiments/components/gaussian.py:17: RuntimeWarning: invalid value encountered in divide\n",
      "  -np.square(scale * np.where(norm > 0, (n + np.array([l1, l2]).reshape(-1, 1, 1)) / norm * log(norm + 1), 0.) - mu.reshape(-1, 1, 1)).sum(axis=0)\n",
      "/home/student/master-experiments/components/gaussian.py:17: RuntimeWarning: invalid value encountered in divide\n",
      "  -np.square(scale * np.where(norm > 0, (n + np.array([l1, l2]).reshape(-1, 1, 1)) / norm * log(norm + 1), 0.) - mu.reshape(-1, 1, 1)).sum(axis=0)\n",
      "/home/student/master-experiments/components/gaussian.py:17: RuntimeWarning: invalid value encountered in divide\n",
      "  -np.square(scale * np.where(norm > 0, (n + np.array([l1, l2]).reshape(-1, 1, 1)) / norm * log(norm + 1), 0.) - mu.reshape(-1, 1, 1)).sum(axis=0)\n",
      "/home/student/master-experiments/components/gaussian.py:17: RuntimeWarning: invalid value encountered in divide\n",
      "  -np.square(scale * np.where(norm > 0, (n + np.array([l1, l2]).reshape(-1, 1, 1)) / norm * log(norm + 1), 0.) - mu.reshape(-1, 1, 1)).sum(axis=0)\n",
      "/home/student/master-experiments/components/gaussian.py:17: RuntimeWarning: invalid value encountered in divide\n",
      "  -np.square(scale * np.where(norm > 0, (n + np.array([l1, l2]).reshape(-1, 1, 1)) / norm * log(norm + 1), 0.) - mu.reshape(-1, 1, 1)).sum(axis=0)\n",
      "/home/student/master-experiments/components/gaussian.py:17: RuntimeWarning: invalid value encountered in divide\n",
      "  -np.square(scale * np.where(norm > 0, (n + np.array([l1, l2]).reshape(-1, 1, 1)) / norm * log(norm + 1), 0.) - mu.reshape(-1, 1, 1)).sum(axis=0)\n",
      "/home/student/master-experiments/components/gaussian.py:17: RuntimeWarning: invalid value encountered in divide\n",
      "  -np.square(scale * np.where(norm > 0, (n + np.array([l1, l2]).reshape(-1, 1, 1)) / norm * log(norm + 1), 0.) - mu.reshape(-1, 1, 1)).sum(axis=0)\n",
      "/home/student/master-experiments/components/gaussian.py:17: RuntimeWarning: invalid value encountered in divide\n",
      "  -np.square(scale * np.where(norm > 0, (n + np.array([l1, l2]).reshape(-1, 1, 1)) / norm * log(norm + 1), 0.) - mu.reshape(-1, 1, 1)).sum(axis=0)\n",
      "/home/student/master-experiments/components/gaussian.py:17: RuntimeWarning: invalid value encountered in divide\n",
      "  -np.square(scale * np.where(norm > 0, (n + np.array([l1, l2]).reshape(-1, 1, 1)) / norm * log(norm + 1), 0.) - mu.reshape(-1, 1, 1)).sum(axis=0)\n",
      "/home/student/master-experiments/components/gaussian.py:17: RuntimeWarning: invalid value encountered in divide\n",
      "  -np.square(scale * np.where(norm > 0, (n + np.array([l1, l2]).reshape(-1, 1, 1)) / norm * log(norm + 1), 0.) - mu.reshape(-1, 1, 1)).sum(axis=0)\n",
      "/home/student/master-experiments/components/gaussian.py:17: RuntimeWarning: invalid value encountered in divide\n",
      "  -np.square(scale * np.where(norm > 0, (n + np.array([l1, l2]).reshape(-1, 1, 1)) / norm * log(norm + 1), 0.) - mu.reshape(-1, 1, 1)).sum(axis=0)\n",
      "/home/student/master-experiments/components/gaussian.py:17: RuntimeWarning: invalid value encountered in divide\n",
      "  -np.square(scale * np.where(norm > 0, (n + np.array([l1, l2]).reshape(-1, 1, 1)) / norm * log(norm + 1), 0.) - mu.reshape(-1, 1, 1)).sum(axis=0)\n",
      "/home/student/master-experiments/components/gaussian.py:17: RuntimeWarning: invalid value encountered in divide\n",
      "  -np.square(scale * np.where(norm > 0, (n + np.array([l1, l2]).reshape(-1, 1, 1)) / norm * log(norm + 1), 0.) - mu.reshape(-1, 1, 1)).sum(axis=0)\n",
      "/home/student/master-experiments/components/gaussian.py:17: RuntimeWarning: invalid value encountered in divide\n",
      "  -np.square(scale * np.where(norm > 0, (n + np.array([l1, l2]).reshape(-1, 1, 1)) / norm * log(norm + 1), 0.) - mu.reshape(-1, 1, 1)).sum(axis=0)\n",
      "/home/student/master-experiments/components/gaussian.py:17: RuntimeWarning: invalid value encountered in divide\n",
      "  -np.square(scale * np.where(norm > 0, (n + np.array([l1, l2]).reshape(-1, 1, 1)) / norm * log(norm + 1), 0.) - mu.reshape(-1, 1, 1)).sum(axis=0)\n",
      "/home/student/master-experiments/components/gaussian.py:17: RuntimeWarning: invalid value encountered in divide\n",
      "  -np.square(scale * np.where(norm > 0, (n + np.array([l1, l2]).reshape(-1, 1, 1)) / norm * log(norm + 1), 0.) - mu.reshape(-1, 1, 1)).sum(axis=0)\n",
      "/home/student/master-experiments/components/gaussian.py:17: RuntimeWarning: invalid value encountered in divide\n",
      "  -np.square(scale * np.where(norm > 0, (n + np.array([l1, l2]).reshape(-1, 1, 1)) / norm * log(norm + 1), 0.) - mu.reshape(-1, 1, 1)).sum(axis=0)\n",
      "/home/student/master-experiments/components/gaussian.py:17: RuntimeWarning: invalid value encountered in divide\n",
      "  -np.square(scale * np.where(norm > 0, (n + np.array([l1, l2]).reshape(-1, 1, 1)) / norm * log(norm + 1), 0.) - mu.reshape(-1, 1, 1)).sum(axis=0)\n",
      "/home/student/master-experiments/components/gaussian.py:17: RuntimeWarning: invalid value encountered in divide\n",
      "  -np.square(scale * np.where(norm > 0, (n + np.array([l1, l2]).reshape(-1, 1, 1)) / norm * log(norm + 1), 0.) - mu.reshape(-1, 1, 1)).sum(axis=0)\n",
      "/home/student/master-experiments/components/gaussian.py:17: RuntimeWarning: invalid value encountered in divide\n",
      "  -np.square(scale * np.where(norm > 0, (n + np.array([l1, l2]).reshape(-1, 1, 1)) / norm * log(norm + 1), 0.) - mu.reshape(-1, 1, 1)).sum(axis=0)\n",
      "/home/student/master-experiments/components/gaussian.py:17: RuntimeWarning: invalid value encountered in divide\n",
      "  -np.square(scale * np.where(norm > 0, (n + np.array([l1, l2]).reshape(-1, 1, 1)) / norm * log(norm + 1), 0.) - mu.reshape(-1, 1, 1)).sum(axis=0)\n",
      "/home/student/master-experiments/components/gaussian.py:17: RuntimeWarning: invalid value encountered in divide\n",
      "  -np.square(scale * np.where(norm > 0, (n + np.array([l1, l2]).reshape(-1, 1, 1)) / norm * log(norm + 1), 0.) - mu.reshape(-1, 1, 1)).sum(axis=0)\n",
      "/home/student/master-experiments/components/gaussian.py:17: RuntimeWarning: invalid value encountered in divide\n",
      "  -np.square(scale * np.where(norm > 0, (n + np.array([l1, l2]).reshape(-1, 1, 1)) / norm * log(norm + 1), 0.) - mu.reshape(-1, 1, 1)).sum(axis=0)\n",
      "/home/student/master-experiments/components/gaussian.py:17: RuntimeWarning: invalid value encountered in divide\n",
      "  -np.square(scale * np.where(norm > 0, (n + np.array([l1, l2]).reshape(-1, 1, 1)) / norm * log(norm + 1), 0.) - mu.reshape(-1, 1, 1)).sum(axis=0)\n",
      "/home/student/master-experiments/components/gaussian.py:17: RuntimeWarning: invalid value encountered in divide\n",
      "  -np.square(scale * np.where(norm > 0, (n + np.array([l1, l2]).reshape(-1, 1, 1)) / norm * log(norm + 1), 0.) - mu.reshape(-1, 1, 1)).sum(axis=0)\n",
      "/home/student/master-experiments/components/gaussian.py:17: RuntimeWarning: invalid value encountered in divide\n",
      "  -np.square(scale * np.where(norm > 0, (n + np.array([l1, l2]).reshape(-1, 1, 1)) / norm * log(norm + 1), 0.) - mu.reshape(-1, 1, 1)).sum(axis=0)\n",
      "/home/student/master-experiments/components/gaussian.py:17: RuntimeWarning: invalid value encountered in divide\n",
      "  -np.square(scale * np.where(norm > 0, (n + np.array([l1, l2]).reshape(-1, 1, 1)) / norm * log(norm + 1), 0.) - mu.reshape(-1, 1, 1)).sum(axis=0)\n",
      "/home/student/master-experiments/components/gaussian.py:17: RuntimeWarning: invalid value encountered in divide\n",
      "  -np.square(scale * np.where(norm > 0, (n + np.array([l1, l2]).reshape(-1, 1, 1)) / norm * log(norm + 1), 0.) - mu.reshape(-1, 1, 1)).sum(axis=0)\n",
      "/home/student/master-experiments/components/gaussian.py:17: RuntimeWarning: invalid value encountered in divide\n",
      "  -np.square(scale * np.where(norm > 0, (n + np.array([l1, l2]).reshape(-1, 1, 1)) / norm * log(norm + 1), 0.) - mu.reshape(-1, 1, 1)).sum(axis=0)\n",
      "/home/student/master-experiments/components/gaussian.py:17: RuntimeWarning: invalid value encountered in divide\n",
      "  -np.square(scale * np.where(norm > 0, (n + np.array([l1, l2]).reshape(-1, 1, 1)) / norm * log(norm + 1), 0.) - mu.reshape(-1, 1, 1)).sum(axis=0)\n",
      "/home/student/master-experiments/components/gaussian.py:17: RuntimeWarning: invalid value encountered in divide\n",
      "  -np.square(scale * np.where(norm > 0, (n + np.array([l1, l2]).reshape(-1, 1, 1)) / norm * log(norm + 1), 0.) - mu.reshape(-1, 1, 1)).sum(axis=0)\n",
      "/home/student/master-experiments/components/gaussian.py:17: RuntimeWarning: invalid value encountered in divide\n",
      "  -np.square(scale * np.where(norm > 0, (n + np.array([l1, l2]).reshape(-1, 1, 1)) / norm * log(norm + 1), 0.) - mu.reshape(-1, 1, 1)).sum(axis=0)\n",
      "/home/student/master-experiments/components/gaussian.py:17: RuntimeWarning: invalid value encountered in divide\n",
      "  -np.square(scale * np.where(norm > 0, (n + np.array([l1, l2]).reshape(-1, 1, 1)) / norm * log(norm + 1), 0.) - mu.reshape(-1, 1, 1)).sum(axis=0)\n",
      "/home/student/master-experiments/components/gaussian.py:17: RuntimeWarning: invalid value encountered in divide\n",
      "  -np.square(scale * np.where(norm > 0, (n + np.array([l1, l2]).reshape(-1, 1, 1)) / norm * log(norm + 1), 0.) - mu.reshape(-1, 1, 1)).sum(axis=0)\n",
      "/home/student/master-experiments/components/gaussian.py:17: RuntimeWarning: invalid value encountered in divide\n",
      "  -np.square(scale * np.where(norm > 0, (n + np.array([l1, l2]).reshape(-1, 1, 1)) / norm * log(norm + 1), 0.) - mu.reshape(-1, 1, 1)).sum(axis=0)\n",
      "/home/student/master-experiments/components/gaussian.py:17: RuntimeWarning: invalid value encountered in divide\n",
      "  -np.square(scale * np.where(norm > 0, (n + np.array([l1, l2]).reshape(-1, 1, 1)) / norm * log(norm + 1), 0.) - mu.reshape(-1, 1, 1)).sum(axis=0)\n",
      "/home/student/master-experiments/components/gaussian.py:17: RuntimeWarning: invalid value encountered in divide\n",
      "  -np.square(scale * np.where(norm > 0, (n + np.array([l1, l2]).reshape(-1, 1, 1)) / norm * log(norm + 1), 0.) - mu.reshape(-1, 1, 1)).sum(axis=0)\n",
      "/home/student/master-experiments/components/gaussian.py:17: RuntimeWarning: invalid value encountered in divide\n",
      "  -np.square(scale * np.where(norm > 0, (n + np.array([l1, l2]).reshape(-1, 1, 1)) / norm * log(norm + 1), 0.) - mu.reshape(-1, 1, 1)).sum(axis=0)\n",
      "/home/student/master-experiments/components/gaussian.py:17: RuntimeWarning: invalid value encountered in divide\n",
      "  -np.square(scale * np.where(norm > 0, (n + np.array([l1, l2]).reshape(-1, 1, 1)) / norm * log(norm + 1), 0.) - mu.reshape(-1, 1, 1)).sum(axis=0)\n",
      "/home/student/master-experiments/components/gaussian.py:17: RuntimeWarning: invalid value encountered in divide\n",
      "  -np.square(scale * np.where(norm > 0, (n + np.array([l1, l2]).reshape(-1, 1, 1)) / norm * log(norm + 1), 0.) - mu.reshape(-1, 1, 1)).sum(axis=0)\n",
      "/home/student/master-experiments/components/gaussian.py:17: RuntimeWarning: invalid value encountered in divide\n",
      "  -np.square(scale * np.where(norm > 0, (n + np.array([l1, l2]).reshape(-1, 1, 1)) / norm * log(norm + 1), 0.) - mu.reshape(-1, 1, 1)).sum(axis=0)\n",
      "/home/student/master-experiments/components/gaussian.py:17: RuntimeWarning: invalid value encountered in divide\n",
      "  -np.square(scale * np.where(norm > 0, (n + np.array([l1, l2]).reshape(-1, 1, 1)) / norm * log(norm + 1), 0.) - mu.reshape(-1, 1, 1)).sum(axis=0)\n",
      "/home/student/master-experiments/components/gaussian.py:17: RuntimeWarning: invalid value encountered in divide\n",
      "  -np.square(scale * np.where(norm > 0, (n + np.array([l1, l2]).reshape(-1, 1, 1)) / norm * log(norm + 1), 0.) - mu.reshape(-1, 1, 1)).sum(axis=0)\n",
      "/home/student/master-experiments/components/gaussian.py:17: RuntimeWarning: invalid value encountered in divide\n",
      "  -np.square(scale * np.where(norm > 0, (n + np.array([l1, l2]).reshape(-1, 1, 1)) / norm * log(norm + 1), 0.) - mu.reshape(-1, 1, 1)).sum(axis=0)\n",
      "/home/student/master-experiments/components/gaussian.py:17: RuntimeWarning: invalid value encountered in divide\n",
      "  -np.square(scale * np.where(norm > 0, (n + np.array([l1, l2]).reshape(-1, 1, 1)) / norm * log(norm + 1), 0.) - mu.reshape(-1, 1, 1)).sum(axis=0)\n",
      "/home/student/master-experiments/components/gaussian.py:17: RuntimeWarning: invalid value encountered in divide\n",
      "  -np.square(scale * np.where(norm > 0, (n + np.array([l1, l2]).reshape(-1, 1, 1)) / norm * log(norm + 1), 0.) - mu.reshape(-1, 1, 1)).sum(axis=0)\n",
      "/home/student/master-experiments/components/gaussian.py:17: RuntimeWarning: invalid value encountered in divide\n",
      "  -np.square(scale * np.where(norm > 0, (n + np.array([l1, l2]).reshape(-1, 1, 1)) / norm * log(norm + 1), 0.) - mu.reshape(-1, 1, 1)).sum(axis=0)\n",
      "/home/student/master-experiments/components/gaussian.py:17: RuntimeWarning: invalid value encountered in divide\n",
      "  -np.square(scale * np.where(norm > 0, (n + np.array([l1, l2]).reshape(-1, 1, 1)) / norm * log(norm + 1), 0.) - mu.reshape(-1, 1, 1)).sum(axis=0)\n",
      "/home/student/master-experiments/components/gaussian.py:17: RuntimeWarning: invalid value encountered in divide\n",
      "  -np.square(scale * np.where(norm > 0, (n + np.array([l1, l2]).reshape(-1, 1, 1)) / norm * log(norm + 1), 0.) - mu.reshape(-1, 1, 1)).sum(axis=0)\n",
      "/home/student/master-experiments/components/gaussian.py:17: RuntimeWarning: invalid value encountered in divide\n",
      "  -np.square(scale * np.where(norm > 0, (n + np.array([l1, l2]).reshape(-1, 1, 1)) / norm * log(norm + 1), 0.) - mu.reshape(-1, 1, 1)).sum(axis=0)\n",
      "/home/student/master-experiments/components/gaussian.py:17: RuntimeWarning: invalid value encountered in divide\n",
      "  -np.square(scale * np.where(norm > 0, (n + np.array([l1, l2]).reshape(-1, 1, 1)) / norm * log(norm + 1), 0.) - mu.reshape(-1, 1, 1)).sum(axis=0)\n",
      "/home/student/master-experiments/components/gaussian.py:17: RuntimeWarning: invalid value encountered in divide\n",
      "  -np.square(scale * np.where(norm > 0, (n + np.array([l1, l2]).reshape(-1, 1, 1)) / norm * log(norm + 1), 0.) - mu.reshape(-1, 1, 1)).sum(axis=0)\n",
      "/home/student/master-experiments/components/gaussian.py:17: RuntimeWarning: invalid value encountered in divide\n",
      "  -np.square(scale * np.where(norm > 0, (n + np.array([l1, l2]).reshape(-1, 1, 1)) / norm * log(norm + 1), 0.) - mu.reshape(-1, 1, 1)).sum(axis=0)\n",
      "/home/student/master-experiments/components/gaussian.py:17: RuntimeWarning: invalid value encountered in divide\n",
      "  -np.square(scale * np.where(norm > 0, (n + np.array([l1, l2]).reshape(-1, 1, 1)) / norm * log(norm + 1), 0.) - mu.reshape(-1, 1, 1)).sum(axis=0)\n",
      "/home/student/master-experiments/components/gaussian.py:17: RuntimeWarning: invalid value encountered in divide\n",
      "  -np.square(scale * np.where(norm > 0, (n + np.array([l1, l2]).reshape(-1, 1, 1)) / norm * log(norm + 1), 0.) - mu.reshape(-1, 1, 1)).sum(axis=0)\n",
      "/home/student/master-experiments/components/gaussian.py:17: RuntimeWarning: invalid value encountered in divide\n",
      "  -np.square(scale * np.where(norm > 0, (n + np.array([l1, l2]).reshape(-1, 1, 1)) / norm * log(norm + 1), 0.) - mu.reshape(-1, 1, 1)).sum(axis=0)\n",
      "/home/student/master-experiments/components/gaussian.py:17: RuntimeWarning: invalid value encountered in divide\n",
      "  -np.square(scale * np.where(norm > 0, (n + np.array([l1, l2]).reshape(-1, 1, 1)) / norm * log(norm + 1), 0.) - mu.reshape(-1, 1, 1)).sum(axis=0)\n",
      "/home/student/master-experiments/components/gaussian.py:17: RuntimeWarning: invalid value encountered in divide\n",
      "  -np.square(scale * np.where(norm > 0, (n + np.array([l1, l2]).reshape(-1, 1, 1)) / norm * log(norm + 1), 0.) - mu.reshape(-1, 1, 1)).sum(axis=0)\n",
      "/home/student/master-experiments/components/gaussian.py:17: RuntimeWarning: invalid value encountered in divide\n",
      "  -np.square(scale * np.where(norm > 0, (n + np.array([l1, l2]).reshape(-1, 1, 1)) / norm * log(norm + 1), 0.) - mu.reshape(-1, 1, 1)).sum(axis=0)\n",
      "/home/student/master-experiments/components/gaussian.py:17: RuntimeWarning: invalid value encountered in divide\n",
      "  -np.square(scale * np.where(norm > 0, (n + np.array([l1, l2]).reshape(-1, 1, 1)) / norm * log(norm + 1), 0.) - mu.reshape(-1, 1, 1)).sum(axis=0)\n",
      "/home/student/master-experiments/components/gaussian.py:17: RuntimeWarning: invalid value encountered in divide\n",
      "  -np.square(scale * np.where(norm > 0, (n + np.array([l1, l2]).reshape(-1, 1, 1)) / norm * log(norm + 1), 0.) - mu.reshape(-1, 1, 1)).sum(axis=0)\n",
      "/home/student/master-experiments/components/gaussian.py:17: RuntimeWarning: invalid value encountered in divide\n",
      "  -np.square(scale * np.where(norm > 0, (n + np.array([l1, l2]).reshape(-1, 1, 1)) / norm * log(norm + 1), 0.) - mu.reshape(-1, 1, 1)).sum(axis=0)\n",
      "/home/student/master-experiments/components/gaussian.py:17: RuntimeWarning: invalid value encountered in divide\n",
      "  -np.square(scale * np.where(norm > 0, (n + np.array([l1, l2]).reshape(-1, 1, 1)) / norm * log(norm + 1), 0.) - mu.reshape(-1, 1, 1)).sum(axis=0)\n",
      "/home/student/master-experiments/components/gaussian.py:17: RuntimeWarning: invalid value encountered in divide\n",
      "  -np.square(scale * np.where(norm > 0, (n + np.array([l1, l2]).reshape(-1, 1, 1)) / norm * log(norm + 1), 0.) - mu.reshape(-1, 1, 1)).sum(axis=0)\n",
      "/home/student/master-experiments/components/gaussian.py:17: RuntimeWarning: invalid value encountered in divide\n",
      "  -np.square(scale * np.where(norm > 0, (n + np.array([l1, l2]).reshape(-1, 1, 1)) / norm * log(norm + 1), 0.) - mu.reshape(-1, 1, 1)).sum(axis=0)\n",
      "/home/student/master-experiments/components/gaussian.py:17: RuntimeWarning: invalid value encountered in divide\n",
      "  -np.square(scale * np.where(norm > 0, (n + np.array([l1, l2]).reshape(-1, 1, 1)) / norm * log(norm + 1), 0.) - mu.reshape(-1, 1, 1)).sum(axis=0)\n",
      "/home/student/master-experiments/components/gaussian.py:17: RuntimeWarning: invalid value encountered in divide\n",
      "  -np.square(scale * np.where(norm > 0, (n + np.array([l1, l2]).reshape(-1, 1, 1)) / norm * log(norm + 1), 0.) - mu.reshape(-1, 1, 1)).sum(axis=0)\n",
      "/home/student/master-experiments/components/gaussian.py:17: RuntimeWarning: invalid value encountered in divide\n",
      "  -np.square(scale * np.where(norm > 0, (n + np.array([l1, l2]).reshape(-1, 1, 1)) / norm * log(norm + 1), 0.) - mu.reshape(-1, 1, 1)).sum(axis=0)\n",
      "/home/student/master-experiments/components/gaussian.py:17: RuntimeWarning: invalid value encountered in divide\n",
      "  -np.square(scale * np.where(norm > 0, (n + np.array([l1, l2]).reshape(-1, 1, 1)) / norm * log(norm + 1), 0.) - mu.reshape(-1, 1, 1)).sum(axis=0)\n",
      "/home/student/master-experiments/components/gaussian.py:17: RuntimeWarning: invalid value encountered in divide\n",
      "  -np.square(scale * np.where(norm > 0, (n + np.array([l1, l2]).reshape(-1, 1, 1)) / norm * log(norm + 1), 0.) - mu.reshape(-1, 1, 1)).sum(axis=0)\n",
      "/home/student/master-experiments/components/gaussian.py:17: RuntimeWarning: invalid value encountered in divide\n",
      "  -np.square(scale * np.where(norm > 0, (n + np.array([l1, l2]).reshape(-1, 1, 1)) / norm * log(norm + 1), 0.) - mu.reshape(-1, 1, 1)).sum(axis=0)\n",
      "/home/student/master-experiments/components/gaussian.py:17: RuntimeWarning: invalid value encountered in divide\n",
      "  -np.square(scale * np.where(norm > 0, (n + np.array([l1, l2]).reshape(-1, 1, 1)) / norm * log(norm + 1), 0.) - mu.reshape(-1, 1, 1)).sum(axis=0)\n",
      "/home/student/master-experiments/components/gaussian.py:17: RuntimeWarning: invalid value encountered in divide\n",
      "  -np.square(scale * np.where(norm > 0, (n + np.array([l1, l2]).reshape(-1, 1, 1)) / norm * log(norm + 1), 0.) - mu.reshape(-1, 1, 1)).sum(axis=0)\n",
      "/home/student/master-experiments/components/gaussian.py:17: RuntimeWarning: invalid value encountered in divide\n",
      "  -np.square(scale * np.where(norm > 0, (n + np.array([l1, l2]).reshape(-1, 1, 1)) / norm * log(norm + 1), 0.) - mu.reshape(-1, 1, 1)).sum(axis=0)\n",
      "/home/student/master-experiments/components/gaussian.py:17: RuntimeWarning: invalid value encountered in divide\n",
      "  -np.square(scale * np.where(norm > 0, (n + np.array([l1, l2]).reshape(-1, 1, 1)) / norm * log(norm + 1), 0.) - mu.reshape(-1, 1, 1)).sum(axis=0)\n",
      "/home/student/master-experiments/components/gaussian.py:17: RuntimeWarning: invalid value encountered in divide\n",
      "  -np.square(scale * np.where(norm > 0, (n + np.array([l1, l2]).reshape(-1, 1, 1)) / norm * log(norm + 1), 0.) - mu.reshape(-1, 1, 1)).sum(axis=0)\n",
      "/home/student/master-experiments/components/gaussian.py:17: RuntimeWarning: invalid value encountered in divide\n",
      "  -np.square(scale * np.where(norm > 0, (n + np.array([l1, l2]).reshape(-1, 1, 1)) / norm * log(norm + 1), 0.) - mu.reshape(-1, 1, 1)).sum(axis=0)\n",
      "/home/student/master-experiments/components/gaussian.py:17: RuntimeWarning: invalid value encountered in divide\n",
      "  -np.square(scale * np.where(norm > 0, (n + np.array([l1, l2]).reshape(-1, 1, 1)) / norm * log(norm + 1), 0.) - mu.reshape(-1, 1, 1)).sum(axis=0)\n",
      "/home/student/master-experiments/components/gaussian.py:17: RuntimeWarning: invalid value encountered in divide\n",
      "  -np.square(scale * np.where(norm > 0, (n + np.array([l1, l2]).reshape(-1, 1, 1)) / norm * log(norm + 1), 0.) - mu.reshape(-1, 1, 1)).sum(axis=0)\n",
      "/home/student/master-experiments/components/gaussian.py:17: RuntimeWarning: invalid value encountered in divide\n",
      "  -np.square(scale * np.where(norm > 0, (n + np.array([l1, l2]).reshape(-1, 1, 1)) / norm * log(norm + 1), 0.) - mu.reshape(-1, 1, 1)).sum(axis=0)\n",
      "/home/student/master-experiments/components/gaussian.py:17: RuntimeWarning: invalid value encountered in divide\n",
      "  -np.square(scale * np.where(norm > 0, (n + np.array([l1, l2]).reshape(-1, 1, 1)) / norm * log(norm + 1), 0.) - mu.reshape(-1, 1, 1)).sum(axis=0)\n",
      "/home/student/master-experiments/components/gaussian.py:17: RuntimeWarning: invalid value encountered in divide\n",
      "  -np.square(scale * np.where(norm > 0, (n + np.array([l1, l2]).reshape(-1, 1, 1)) / norm * log(norm + 1), 0.) - mu.reshape(-1, 1, 1)).sum(axis=0)\n",
      "/home/student/master-experiments/components/gaussian.py:17: RuntimeWarning: invalid value encountered in divide\n",
      "  -np.square(scale * np.where(norm > 0, (n + np.array([l1, l2]).reshape(-1, 1, 1)) / norm * log(norm + 1), 0.) - mu.reshape(-1, 1, 1)).sum(axis=0)\n",
      "/home/student/master-experiments/components/gaussian.py:17: RuntimeWarning: invalid value encountered in divide\n",
      "  -np.square(scale * np.where(norm > 0, (n + np.array([l1, l2]).reshape(-1, 1, 1)) / norm * log(norm + 1), 0.) - mu.reshape(-1, 1, 1)).sum(axis=0)\n",
      "/home/student/master-experiments/components/gaussian.py:17: RuntimeWarning: invalid value encountered in divide\n",
      "  -np.square(scale * np.where(norm > 0, (n + np.array([l1, l2]).reshape(-1, 1, 1)) / norm * log(norm + 1), 0.) - mu.reshape(-1, 1, 1)).sum(axis=0)\n",
      "/home/student/master-experiments/components/gaussian.py:17: RuntimeWarning: invalid value encountered in divide\n",
      "  -np.square(scale * np.where(norm > 0, (n + np.array([l1, l2]).reshape(-1, 1, 1)) / norm * log(norm + 1), 0.) - mu.reshape(-1, 1, 1)).sum(axis=0)\n",
      "/home/student/master-experiments/components/gaussian.py:17: RuntimeWarning: invalid value encountered in divide\n",
      "  -np.square(scale * np.where(norm > 0, (n + np.array([l1, l2]).reshape(-1, 1, 1)) / norm * log(norm + 1), 0.) - mu.reshape(-1, 1, 1)).sum(axis=0)\n",
      "/home/student/master-experiments/components/gaussian.py:17: RuntimeWarning: invalid value encountered in divide\n",
      "  -np.square(scale * np.where(norm > 0, (n + np.array([l1, l2]).reshape(-1, 1, 1)) / norm * log(norm + 1), 0.) - mu.reshape(-1, 1, 1)).sum(axis=0)\n",
      "/home/student/master-experiments/components/gaussian.py:17: RuntimeWarning: invalid value encountered in divide\n",
      "  -np.square(scale * np.where(norm > 0, (n + np.array([l1, l2]).reshape(-1, 1, 1)) / norm * log(norm + 1), 0.) - mu.reshape(-1, 1, 1)).sum(axis=0)\n",
      "/home/student/master-experiments/components/gaussian.py:17: RuntimeWarning: invalid value encountered in divide\n",
      "  -np.square(scale * np.where(norm > 0, (n + np.array([l1, l2]).reshape(-1, 1, 1)) / norm * log(norm + 1), 0.) - mu.reshape(-1, 1, 1)).sum(axis=0)\n",
      "/home/student/master-experiments/components/gaussian.py:17: RuntimeWarning: invalid value encountered in divide\n",
      "  -np.square(scale * np.where(norm > 0, (n + np.array([l1, l2]).reshape(-1, 1, 1)) / norm * log(norm + 1), 0.) - mu.reshape(-1, 1, 1)).sum(axis=0)\n",
      "/home/student/master-experiments/components/gaussian.py:17: RuntimeWarning: invalid value encountered in divide\n",
      "  -np.square(scale * np.where(norm > 0, (n + np.array([l1, l2]).reshape(-1, 1, 1)) / norm * log(norm + 1), 0.) - mu.reshape(-1, 1, 1)).sum(axis=0)\n",
      "/home/student/master-experiments/components/gaussian.py:17: RuntimeWarning: invalid value encountered in divide\n",
      "  -np.square(scale * np.where(norm > 0, (n + np.array([l1, l2]).reshape(-1, 1, 1)) / norm * log(norm + 1), 0.) - mu.reshape(-1, 1, 1)).sum(axis=0)\n",
      "/home/student/master-experiments/components/gaussian.py:17: RuntimeWarning: invalid value encountered in divide\n",
      "  -np.square(scale * np.where(norm > 0, (n + np.array([l1, l2]).reshape(-1, 1, 1)) / norm * log(norm + 1), 0.) - mu.reshape(-1, 1, 1)).sum(axis=0)\n",
      "/home/student/master-experiments/components/gaussian.py:17: RuntimeWarning: invalid value encountered in divide\n",
      "  -np.square(scale * np.where(norm > 0, (n + np.array([l1, l2]).reshape(-1, 1, 1)) / norm * log(norm + 1), 0.) - mu.reshape(-1, 1, 1)).sum(axis=0)\n",
      "/home/student/master-experiments/components/gaussian.py:17: RuntimeWarning: invalid value encountered in divide\n",
      "  -np.square(scale * np.where(norm > 0, (n + np.array([l1, l2]).reshape(-1, 1, 1)) / norm * log(norm + 1), 0.) - mu.reshape(-1, 1, 1)).sum(axis=0)\n",
      "/home/student/master-experiments/components/gaussian.py:17: RuntimeWarning: invalid value encountered in divide\n",
      "  -np.square(scale * np.where(norm > 0, (n + np.array([l1, l2]).reshape(-1, 1, 1)) / norm * log(norm + 1), 0.) - mu.reshape(-1, 1, 1)).sum(axis=0)\n",
      "/home/student/master-experiments/components/gaussian.py:17: RuntimeWarning: invalid value encountered in divide\n",
      "  -np.square(scale * np.where(norm > 0, (n + np.array([l1, l2]).reshape(-1, 1, 1)) / norm * log(norm + 1), 0.) - mu.reshape(-1, 1, 1)).sum(axis=0)\n",
      "/home/student/master-experiments/components/gaussian.py:17: RuntimeWarning: invalid value encountered in divide\n",
      "  -np.square(scale * np.where(norm > 0, (n + np.array([l1, l2]).reshape(-1, 1, 1)) / norm * log(norm + 1), 0.) - mu.reshape(-1, 1, 1)).sum(axis=0)\n",
      "/home/student/master-experiments/components/gaussian.py:17: RuntimeWarning: invalid value encountered in divide\n",
      "  -np.square(scale * np.where(norm > 0, (n + np.array([l1, l2]).reshape(-1, 1, 1)) / norm * log(norm + 1), 0.) - mu.reshape(-1, 1, 1)).sum(axis=0)\n",
      "/home/student/master-experiments/components/gaussian.py:17: RuntimeWarning: invalid value encountered in divide\n",
      "  -np.square(scale * np.where(norm > 0, (n + np.array([l1, l2]).reshape(-1, 1, 1)) / norm * log(norm + 1), 0.) - mu.reshape(-1, 1, 1)).sum(axis=0)\n",
      "/home/student/master-experiments/components/gaussian.py:17: RuntimeWarning: invalid value encountered in divide\n",
      "  -np.square(scale * np.where(norm > 0, (n + np.array([l1, l2]).reshape(-1, 1, 1)) / norm * log(norm + 1), 0.) - mu.reshape(-1, 1, 1)).sum(axis=0)\n"
     ]
    }
   ],
   "source": [
    "exp_4_train_transformed = experiment4(data_train)\n",
    "exp_4_test_transformed = [experiment4(test) for test in noisy_test]"
   ]
  },
  {
   "cell_type": "code",
   "execution_count": 12,
   "metadata": {},
   "outputs": [
    {
     "data": {
      "text/plain": [
       "[0.7933, 0.7932, 0.7935, 0.7917, 0.7894, 0.7865]"
      ]
     },
     "execution_count": 12,
     "metadata": {},
     "output_type": "execute_result"
    }
   ],
   "source": [
    "clfs_lr_ex4 = [LogisticRegression(fit_intercept=True,\n",
    "                                  multi_class='multinomial',\n",
    "                                  penalty='l2',\n",
    "                                  solver='saga',\n",
    "                                  max_iter=1000,\n",
    "                                  n_jobs=64,\n",
    "                                  tol=0.001) for _ in range(len(noises))]\n",
    "\n",
    "lr_noisy_exp4_score = score_clfs_noisy(clfs_lr_ex4, exp_4_train_transformed, y_train, exp_4_test_transformed, y_test)\n",
    "scores_noisy_lr.append(lr_noisy_exp4_score)\n",
    "lr_noisy_exp4_score"
   ]
  },
  {
   "cell_type": "code",
   "execution_count": 18,
   "metadata": {},
   "outputs": [
    {
     "name": "stdout",
     "output_type": "stream",
     "text": [
      "coefficients/train/experiment_4_train_fashoin_mnist.npy saved\n",
      "coefficients/test/experiment4/noise_test_0_fashion_mnist.npy saved\n",
      "coefficients/test/experiment4/noise_test_1_fashion_mnist.npy saved\n",
      "coefficients/test/experiment4/noise_test_2_fashion_mnist.npy saved\n",
      "coefficients/test/experiment4/noise_test_3_fashion_mnist.npy saved\n",
      "coefficients/test/experiment4/noise_test_4_fashion_mnist.npy saved\n",
      "coefficients/test/experiment4/noise_test_5_fashion_mnist.npy saved\n"
     ]
    },
    {
     "data": {
      "text/plain": [
       "[None, None, None, None, None, None]"
      ]
     },
     "execution_count": 18,
     "metadata": {},
     "output_type": "execute_result"
    }
   ],
   "source": [
    "save_coefficients(\"train\", exp_4_train_transformed, \"experiment_4_train_fashoin_mnist\")\n",
    "[save_coefficients(\"test/experiment4\", t, f\"noise_test_{i}_fashion_mnist\") for i, t in enumerate(exp_4_test_transformed)]"
   ]
  },
  {
   "cell_type": "markdown",
   "metadata": {},
   "source": [
    "#### Experiment 4 - With imaginary filters"
   ]
  },
  {
   "cell_type": "code",
   "execution_count": 16,
   "metadata": {},
   "outputs": [
    {
     "name": "stderr",
     "output_type": "stream",
     "text": [
      "/home/student/master-experiments/components/gaussian.py:17: RuntimeWarning: invalid value encountered in divide\n",
      "  -np.square(scale * np.where(norm > 0, (n + np.array([l1, l2]).reshape(-1, 1, 1)) / norm * log(norm + 1), 0.) - mu.reshape(-1, 1, 1)).sum(axis=0)\n",
      "/home/student/master-experiments/components/gaussian.py:17: RuntimeWarning: invalid value encountered in divide\n",
      "  -np.square(scale * np.where(norm > 0, (n + np.array([l1, l2]).reshape(-1, 1, 1)) / norm * log(norm + 1), 0.) - mu.reshape(-1, 1, 1)).sum(axis=0)\n",
      "/home/student/master-experiments/components/gaussian.py:17: RuntimeWarning: invalid value encountered in divide\n",
      "  -np.square(scale * np.where(norm > 0, (n + np.array([l1, l2]).reshape(-1, 1, 1)) / norm * log(norm + 1), 0.) - mu.reshape(-1, 1, 1)).sum(axis=0)\n",
      "/home/student/master-experiments/components/gaussian.py:17: RuntimeWarning: invalid value encountered in divide\n",
      "  -np.square(scale * np.where(norm > 0, (n + np.array([l1, l2]).reshape(-1, 1, 1)) / norm * log(norm + 1), 0.) - mu.reshape(-1, 1, 1)).sum(axis=0)\n",
      "/home/student/master-experiments/components/gaussian.py:17: RuntimeWarning: invalid value encountered in divide\n",
      "  -np.square(scale * np.where(norm > 0, (n + np.array([l1, l2]).reshape(-1, 1, 1)) / norm * log(norm + 1), 0.) - mu.reshape(-1, 1, 1)).sum(axis=0)\n",
      "/home/student/master-experiments/components/gaussian.py:17: RuntimeWarning: invalid value encountered in divide\n",
      "  -np.square(scale * np.where(norm > 0, (n + np.array([l1, l2]).reshape(-1, 1, 1)) / norm * log(norm + 1), 0.) - mu.reshape(-1, 1, 1)).sum(axis=0)\n",
      "/home/student/master-experiments/components/gaussian.py:17: RuntimeWarning: invalid value encountered in divide\n",
      "  -np.square(scale * np.where(norm > 0, (n + np.array([l1, l2]).reshape(-1, 1, 1)) / norm * log(norm + 1), 0.) - mu.reshape(-1, 1, 1)).sum(axis=0)\n",
      "/home/student/master-experiments/components/gaussian.py:17: RuntimeWarning: invalid value encountered in divide\n",
      "  -np.square(scale * np.where(norm > 0, (n + np.array([l1, l2]).reshape(-1, 1, 1)) / norm * log(norm + 1), 0.) - mu.reshape(-1, 1, 1)).sum(axis=0)\n",
      "/home/student/master-experiments/components/gaussian.py:17: RuntimeWarning: invalid value encountered in divide\n",
      "  -np.square(scale * np.where(norm > 0, (n + np.array([l1, l2]).reshape(-1, 1, 1)) / norm * log(norm + 1), 0.) - mu.reshape(-1, 1, 1)).sum(axis=0)\n",
      "/home/student/master-experiments/components/gaussian.py:17: RuntimeWarning: invalid value encountered in divide\n",
      "  -np.square(scale * np.where(norm > 0, (n + np.array([l1, l2]).reshape(-1, 1, 1)) / norm * log(norm + 1), 0.) - mu.reshape(-1, 1, 1)).sum(axis=0)\n",
      "/home/student/master-experiments/components/gaussian.py:17: RuntimeWarning: invalid value encountered in divide\n",
      "  -np.square(scale * np.where(norm > 0, (n + np.array([l1, l2]).reshape(-1, 1, 1)) / norm * log(norm + 1), 0.) - mu.reshape(-1, 1, 1)).sum(axis=0)\n",
      "/home/student/master-experiments/components/gaussian.py:17: RuntimeWarning: invalid value encountered in divide\n",
      "  -np.square(scale * np.where(norm > 0, (n + np.array([l1, l2]).reshape(-1, 1, 1)) / norm * log(norm + 1), 0.) - mu.reshape(-1, 1, 1)).sum(axis=0)\n",
      "/home/student/master-experiments/components/gaussian.py:17: RuntimeWarning: invalid value encountered in divide\n",
      "  -np.square(scale * np.where(norm > 0, (n + np.array([l1, l2]).reshape(-1, 1, 1)) / norm * log(norm + 1), 0.) - mu.reshape(-1, 1, 1)).sum(axis=0)\n",
      "/home/student/master-experiments/components/gaussian.py:17: RuntimeWarning: invalid value encountered in divide\n",
      "  -np.square(scale * np.where(norm > 0, (n + np.array([l1, l2]).reshape(-1, 1, 1)) / norm * log(norm + 1), 0.) - mu.reshape(-1, 1, 1)).sum(axis=0)\n",
      "/home/student/master-experiments/components/gaussian.py:17: RuntimeWarning: invalid value encountered in divide\n",
      "  -np.square(scale * np.where(norm > 0, (n + np.array([l1, l2]).reshape(-1, 1, 1)) / norm * log(norm + 1), 0.) - mu.reshape(-1, 1, 1)).sum(axis=0)\n",
      "/home/student/master-experiments/components/gaussian.py:17: RuntimeWarning: invalid value encountered in divide\n",
      "  -np.square(scale * np.where(norm > 0, (n + np.array([l1, l2]).reshape(-1, 1, 1)) / norm * log(norm + 1), 0.) - mu.reshape(-1, 1, 1)).sum(axis=0)\n",
      "/home/student/master-experiments/components/gaussian.py:17: RuntimeWarning: invalid value encountered in divide\n",
      "  -np.square(scale * np.where(norm > 0, (n + np.array([l1, l2]).reshape(-1, 1, 1)) / norm * log(norm + 1), 0.) - mu.reshape(-1, 1, 1)).sum(axis=0)\n",
      "/home/student/master-experiments/components/gaussian.py:17: RuntimeWarning: invalid value encountered in divide\n",
      "  -np.square(scale * np.where(norm > 0, (n + np.array([l1, l2]).reshape(-1, 1, 1)) / norm * log(norm + 1), 0.) - mu.reshape(-1, 1, 1)).sum(axis=0)\n",
      "/home/student/master-experiments/components/gaussian.py:17: RuntimeWarning: invalid value encountered in divide\n",
      "  -np.square(scale * np.where(norm > 0, (n + np.array([l1, l2]).reshape(-1, 1, 1)) / norm * log(norm + 1), 0.) - mu.reshape(-1, 1, 1)).sum(axis=0)\n",
      "/home/student/master-experiments/components/gaussian.py:17: RuntimeWarning: invalid value encountered in divide\n",
      "  -np.square(scale * np.where(norm > 0, (n + np.array([l1, l2]).reshape(-1, 1, 1)) / norm * log(norm + 1), 0.) - mu.reshape(-1, 1, 1)).sum(axis=0)\n",
      "/home/student/master-experiments/components/gaussian.py:17: RuntimeWarning: invalid value encountered in divide\n",
      "  -np.square(scale * np.where(norm > 0, (n + np.array([l1, l2]).reshape(-1, 1, 1)) / norm * log(norm + 1), 0.) - mu.reshape(-1, 1, 1)).sum(axis=0)\n",
      "/home/student/master-experiments/components/gaussian.py:17: RuntimeWarning: invalid value encountered in divide\n",
      "  -np.square(scale * np.where(norm > 0, (n + np.array([l1, l2]).reshape(-1, 1, 1)) / norm * log(norm + 1), 0.) - mu.reshape(-1, 1, 1)).sum(axis=0)\n",
      "/home/student/master-experiments/components/gaussian.py:17: RuntimeWarning: invalid value encountered in divide\n",
      "  -np.square(scale * np.where(norm > 0, (n + np.array([l1, l2]).reshape(-1, 1, 1)) / norm * log(norm + 1), 0.) - mu.reshape(-1, 1, 1)).sum(axis=0)\n",
      "/home/student/master-experiments/components/gaussian.py:17: RuntimeWarning: invalid value encountered in divide\n",
      "  -np.square(scale * np.where(norm > 0, (n + np.array([l1, l2]).reshape(-1, 1, 1)) / norm * log(norm + 1), 0.) - mu.reshape(-1, 1, 1)).sum(axis=0)\n",
      "/home/student/master-experiments/components/gaussian.py:17: RuntimeWarning: invalid value encountered in divide\n",
      "  -np.square(scale * np.where(norm > 0, (n + np.array([l1, l2]).reshape(-1, 1, 1)) / norm * log(norm + 1), 0.) - mu.reshape(-1, 1, 1)).sum(axis=0)\n",
      "/home/student/master-experiments/components/gaussian.py:17: RuntimeWarning: invalid value encountered in divide\n",
      "  -np.square(scale * np.where(norm > 0, (n + np.array([l1, l2]).reshape(-1, 1, 1)) / norm * log(norm + 1), 0.) - mu.reshape(-1, 1, 1)).sum(axis=0)\n",
      "/home/student/master-experiments/components/gaussian.py:17: RuntimeWarning: invalid value encountered in divide\n",
      "  -np.square(scale * np.where(norm > 0, (n + np.array([l1, l2]).reshape(-1, 1, 1)) / norm * log(norm + 1), 0.) - mu.reshape(-1, 1, 1)).sum(axis=0)\n",
      "/home/student/master-experiments/components/gaussian.py:17: RuntimeWarning: invalid value encountered in divide\n",
      "  -np.square(scale * np.where(norm > 0, (n + np.array([l1, l2]).reshape(-1, 1, 1)) / norm * log(norm + 1), 0.) - mu.reshape(-1, 1, 1)).sum(axis=0)\n",
      "/home/student/master-experiments/components/gaussian.py:17: RuntimeWarning: invalid value encountered in divide\n",
      "  -np.square(scale * np.where(norm > 0, (n + np.array([l1, l2]).reshape(-1, 1, 1)) / norm * log(norm + 1), 0.) - mu.reshape(-1, 1, 1)).sum(axis=0)\n",
      "/home/student/master-experiments/components/gaussian.py:17: RuntimeWarning: invalid value encountered in divide\n",
      "  -np.square(scale * np.where(norm > 0, (n + np.array([l1, l2]).reshape(-1, 1, 1)) / norm * log(norm + 1), 0.) - mu.reshape(-1, 1, 1)).sum(axis=0)\n",
      "/home/student/master-experiments/components/gaussian.py:17: RuntimeWarning: invalid value encountered in divide\n",
      "  -np.square(scale * np.where(norm > 0, (n + np.array([l1, l2]).reshape(-1, 1, 1)) / norm * log(norm + 1), 0.) - mu.reshape(-1, 1, 1)).sum(axis=0)\n",
      "/home/student/master-experiments/components/gaussian.py:17: RuntimeWarning: invalid value encountered in divide\n",
      "  -np.square(scale * np.where(norm > 0, (n + np.array([l1, l2]).reshape(-1, 1, 1)) / norm * log(norm + 1), 0.) - mu.reshape(-1, 1, 1)).sum(axis=0)\n",
      "/home/student/master-experiments/components/gaussian.py:17: RuntimeWarning: invalid value encountered in divide\n",
      "  -np.square(scale * np.where(norm > 0, (n + np.array([l1, l2]).reshape(-1, 1, 1)) / norm * log(norm + 1), 0.) - mu.reshape(-1, 1, 1)).sum(axis=0)\n",
      "/home/student/master-experiments/components/gaussian.py:17: RuntimeWarning: invalid value encountered in divide\n",
      "  -np.square(scale * np.where(norm > 0, (n + np.array([l1, l2]).reshape(-1, 1, 1)) / norm * log(norm + 1), 0.) - mu.reshape(-1, 1, 1)).sum(axis=0)\n",
      "/home/student/master-experiments/components/gaussian.py:17: RuntimeWarning: invalid value encountered in divide\n",
      "  -np.square(scale * np.where(norm > 0, (n + np.array([l1, l2]).reshape(-1, 1, 1)) / norm * log(norm + 1), 0.) - mu.reshape(-1, 1, 1)).sum(axis=0)\n",
      "/home/student/master-experiments/components/gaussian.py:17: RuntimeWarning: invalid value encountered in divide\n",
      "  -np.square(scale * np.where(norm > 0, (n + np.array([l1, l2]).reshape(-1, 1, 1)) / norm * log(norm + 1), 0.) - mu.reshape(-1, 1, 1)).sum(axis=0)\n",
      "/home/student/master-experiments/components/gaussian.py:17: RuntimeWarning: invalid value encountered in divide\n",
      "  -np.square(scale * np.where(norm > 0, (n + np.array([l1, l2]).reshape(-1, 1, 1)) / norm * log(norm + 1), 0.) - mu.reshape(-1, 1, 1)).sum(axis=0)\n"
     ]
    },
    {
     "ename": "IndexError",
     "evalue": "index 156 is out of bounds for axis 1 with size 156",
     "output_type": "error",
     "traceback": [
      "\u001b[0;31m---------------------------------------------------------------------------\u001b[0m",
      "\u001b[0;31mRemoteTraceback\u001b[0m                           Traceback (most recent call last)",
      "\u001b[0;31mRemoteTraceback\u001b[0m: \n\"\"\"\nTraceback (most recent call last):\n  File \"/usr/lib/python3.10/multiprocessing/pool.py\", line 125, in worker\n    result = (True, func(*args, **kwds))\n  File \"/usr/lib/python3.10/multiprocessing/pool.py\", line 51, in starmapstar\n    return list(itertools.starmap(args[0], args[1]))\n  File \"/home/student/master-experiments/components/cnn_parallell.py\", line 201, in create_coefficients_with_img\n    return np.hstack((coefficients[:, theta_indices[0]].max(axis=1).reshape(-1, 1), coefficients[:, theta_indices[1]].max(axis=1).reshape(-1, 1),\nIndexError: index 156 is out of bounds for axis 1 with size 156\n\"\"\"",
      "\nThe above exception was the direct cause of the following exception:\n",
      "\u001b[0;31mIndexError\u001b[0m                                Traceback (most recent call last)",
      "Cell \u001b[0;32mIn[16], line 1\u001b[0m\n\u001b[0;32m----> 1\u001b[0m exp_4_train_transformed_img \u001b[38;5;241m=\u001b[39m \u001b[43mexperiment4_img\u001b[49m\u001b[43m(\u001b[49m\u001b[43mdata_train\u001b[49m\u001b[43m)\u001b[49m\n\u001b[1;32m      2\u001b[0m exp_4_test_transformed_img \u001b[38;5;241m=\u001b[39m [experiment4_img(test) \u001b[38;5;28;01mfor\u001b[39;00m test \u001b[38;5;129;01min\u001b[39;00m noisy_test]\n",
      "File \u001b[0;32m~/master-experiments/components/cnn_parallell.py:312\u001b[0m, in \u001b[0;36mexperiment4_img\u001b[0;34m(X, sig, grid_scale, grid_radius)\u001b[0m\n\u001b[1;32m    309\u001b[0m centers \u001b[38;5;241m=\u001b[39m np\u001b[38;5;241m.\u001b[39mrint(grid_scale\u001b[38;5;241m*\u001b[39mhexagon_grid(grid_radius))\n\u001b[1;32m    311\u001b[0m \u001b[38;5;28;01mwith\u001b[39;00m multiprocessing\u001b[38;5;241m.\u001b[39mPool(\u001b[38;5;28mlen\u001b[39m(centers)) \u001b[38;5;28;01mas\u001b[39;00m p:\n\u001b[0;32m--> 312\u001b[0m     manifold \u001b[38;5;241m+\u001b[39m\u001b[38;5;241m=\u001b[39m \u001b[43mp\u001b[49m\u001b[38;5;241;43m.\u001b[39;49m\u001b[43mstarmap\u001b[49m\u001b[43m(\u001b[49m\u001b[43mcreate_coefficients_with_img\u001b[49m\u001b[43m,\u001b[49m\u001b[43m \u001b[49m\u001b[43m[\u001b[49m\u001b[43m(\u001b[49m\u001b[43mX\u001b[49m\u001b[43m,\u001b[49m\u001b[43m \u001b[49m\u001b[43mp\u001b[49m\u001b[43m,\u001b[49m\u001b[43m \u001b[49m\u001b[43mgrid_scale\u001b[49m\u001b[43m)\u001b[49m\u001b[43m \u001b[49m\u001b[38;5;28;43;01mfor\u001b[39;49;00m\u001b[43m \u001b[49m\u001b[43mp\u001b[49m\u001b[43m \u001b[49m\u001b[38;5;129;43;01min\u001b[39;49;00m\u001b[43m \u001b[49m\u001b[43mcenters\u001b[49m\u001b[43m]\u001b[49m\u001b[43m)\u001b[49m\n\u001b[1;32m    314\u001b[0m manifold_reshaped \u001b[38;5;241m=\u001b[39m np\u001b[38;5;241m.\u001b[39mhstack([i \u001b[38;5;28;01mfor\u001b[39;00m i \u001b[38;5;129;01min\u001b[39;00m manifold])\n\u001b[1;32m    316\u001b[0m \u001b[38;5;28;01mreturn\u001b[39;00m manifold_reshaped\n",
      "File \u001b[0;32m/usr/lib/python3.10/multiprocessing/pool.py:375\u001b[0m, in \u001b[0;36mPool.starmap\u001b[0;34m(self, func, iterable, chunksize)\u001b[0m\n\u001b[1;32m    369\u001b[0m \u001b[38;5;28;01mdef\u001b[39;00m \u001b[38;5;21mstarmap\u001b[39m(\u001b[38;5;28mself\u001b[39m, func, iterable, chunksize\u001b[38;5;241m=\u001b[39m\u001b[38;5;28;01mNone\u001b[39;00m):\n\u001b[1;32m    370\u001b[0m \u001b[38;5;250m    \u001b[39m\u001b[38;5;124;03m'''\u001b[39;00m\n\u001b[1;32m    371\u001b[0m \u001b[38;5;124;03m    Like `map()` method but the elements of the `iterable` are expected to\u001b[39;00m\n\u001b[1;32m    372\u001b[0m \u001b[38;5;124;03m    be iterables as well and will be unpacked as arguments. Hence\u001b[39;00m\n\u001b[1;32m    373\u001b[0m \u001b[38;5;124;03m    `func` and (a, b) becomes func(a, b).\u001b[39;00m\n\u001b[1;32m    374\u001b[0m \u001b[38;5;124;03m    '''\u001b[39;00m\n\u001b[0;32m--> 375\u001b[0m     \u001b[38;5;28;01mreturn\u001b[39;00m \u001b[38;5;28;43mself\u001b[39;49m\u001b[38;5;241;43m.\u001b[39;49m\u001b[43m_map_async\u001b[49m\u001b[43m(\u001b[49m\u001b[43mfunc\u001b[49m\u001b[43m,\u001b[49m\u001b[43m \u001b[49m\u001b[43miterable\u001b[49m\u001b[43m,\u001b[49m\u001b[43m \u001b[49m\u001b[43mstarmapstar\u001b[49m\u001b[43m,\u001b[49m\u001b[43m \u001b[49m\u001b[43mchunksize\u001b[49m\u001b[43m)\u001b[49m\u001b[38;5;241;43m.\u001b[39;49m\u001b[43mget\u001b[49m\u001b[43m(\u001b[49m\u001b[43m)\u001b[49m\n",
      "File \u001b[0;32m/usr/lib/python3.10/multiprocessing/pool.py:774\u001b[0m, in \u001b[0;36mApplyResult.get\u001b[0;34m(self, timeout)\u001b[0m\n\u001b[1;32m    772\u001b[0m     \u001b[38;5;28;01mreturn\u001b[39;00m \u001b[38;5;28mself\u001b[39m\u001b[38;5;241m.\u001b[39m_value\n\u001b[1;32m    773\u001b[0m \u001b[38;5;28;01melse\u001b[39;00m:\n\u001b[0;32m--> 774\u001b[0m     \u001b[38;5;28;01mraise\u001b[39;00m \u001b[38;5;28mself\u001b[39m\u001b[38;5;241m.\u001b[39m_value\n",
      "\u001b[0;31mIndexError\u001b[0m: index 156 is out of bounds for axis 1 with size 156"
     ]
    }
   ],
   "source": [
    "exp_4_train_transformed_img = experiment4_img(data_train)\n",
    "exp_4_test_transformed_img = [experiment4_img(test) for test in noisy_test]"
   ]
  },
  {
   "cell_type": "code",
   "execution_count": null,
   "metadata": {},
   "outputs": [],
   "source": [
    "clfs_lr_ex4_img = [LogisticRegression(fit_intercept=True,\n",
    "                                  multi_class='multinomial',\n",
    "                                  penalty='l2',\n",
    "                                  solver='saga',\n",
    "                                  max_iter=1000,\n",
    "                                  n_jobs=64,\n",
    "                                  tol=0.001) for _ in range(len(noises))]\n",
    "\n",
    "lr_noisy_exp4_score_img = score_clfs_noisy(clfs_lr_ex4_img, exp_4_train_transformed_img, y_train, exp_4_test_transformed_img, y_test)\n",
    "scores_noisy_lr.append(lr_noisy_exp4_score_img)\n",
    "lr_noisy_exp4_score_img"
   ]
  },
  {
   "cell_type": "markdown",
   "metadata": {},
   "source": [
    "#### Experiment 6"
   ]
  },
  {
   "cell_type": "code",
   "execution_count": 17,
   "metadata": {},
   "outputs": [
    {
     "name": "stderr",
     "output_type": "stream",
     "text": [
      "/home/student/master-experiments/components/gaussian.py:17: RuntimeWarning: invalid value encountered in divide\n",
      "  -np.square(scale * np.where(norm > 0, (n + np.array([l1, l2]).reshape(-1, 1, 1)) / norm * log(norm + 1), 0.) - mu.reshape(-1, 1, 1)).sum(axis=0)\n",
      "/home/student/master-experiments/components/gaussian.py:17: RuntimeWarning: invalid value encountered in divide\n",
      "  -np.square(scale * np.where(norm > 0, (n + np.array([l1, l2]).reshape(-1, 1, 1)) / norm * log(norm + 1), 0.) - mu.reshape(-1, 1, 1)).sum(axis=0)\n",
      "/home/student/master-experiments/components/gaussian.py:17: RuntimeWarning: invalid value encountered in divide\n",
      "  -np.square(scale * np.where(norm > 0, (n + np.array([l1, l2]).reshape(-1, 1, 1)) / norm * log(norm + 1), 0.) - mu.reshape(-1, 1, 1)).sum(axis=0)\n",
      "/home/student/master-experiments/components/gaussian.py:17: RuntimeWarning: invalid value encountered in divide\n",
      "  -np.square(scale * np.where(norm > 0, (n + np.array([l1, l2]).reshape(-1, 1, 1)) / norm * log(norm + 1), 0.) - mu.reshape(-1, 1, 1)).sum(axis=0)\n",
      "/home/student/master-experiments/components/gaussian.py:17: RuntimeWarning: invalid value encountered in divide\n",
      "  -np.square(scale * np.where(norm > 0, (n + np.array([l1, l2]).reshape(-1, 1, 1)) / norm * log(norm + 1), 0.) - mu.reshape(-1, 1, 1)).sum(axis=0)\n",
      "/home/student/master-experiments/components/gaussian.py:17: RuntimeWarning: invalid value encountered in divide\n",
      "  -np.square(scale * np.where(norm > 0, (n + np.array([l1, l2]).reshape(-1, 1, 1)) / norm * log(norm + 1), 0.) - mu.reshape(-1, 1, 1)).sum(axis=0)\n",
      "/home/student/master-experiments/components/gaussian.py:17: RuntimeWarning: invalid value encountered in divide\n",
      "  -np.square(scale * np.where(norm > 0, (n + np.array([l1, l2]).reshape(-1, 1, 1)) / norm * log(norm + 1), 0.) - mu.reshape(-1, 1, 1)).sum(axis=0)\n",
      "/home/student/master-experiments/components/gaussian.py:17: RuntimeWarning: invalid value encountered in divide\n",
      "  -np.square(scale * np.where(norm > 0, (n + np.array([l1, l2]).reshape(-1, 1, 1)) / norm * log(norm + 1), 0.) - mu.reshape(-1, 1, 1)).sum(axis=0)\n",
      "/home/student/master-experiments/components/gaussian.py:17: RuntimeWarning: invalid value encountered in divide\n",
      "  -np.square(scale * np.where(norm > 0, (n + np.array([l1, l2]).reshape(-1, 1, 1)) / norm * log(norm + 1), 0.) - mu.reshape(-1, 1, 1)).sum(axis=0)\n",
      "/home/student/master-experiments/components/gaussian.py:17: RuntimeWarning: invalid value encountered in divide\n",
      "  -np.square(scale * np.where(norm > 0, (n + np.array([l1, l2]).reshape(-1, 1, 1)) / norm * log(norm + 1), 0.) - mu.reshape(-1, 1, 1)).sum(axis=0)\n",
      "/home/student/master-experiments/components/gaussian.py:17: RuntimeWarning: invalid value encountered in divide\n",
      "  -np.square(scale * np.where(norm > 0, (n + np.array([l1, l2]).reshape(-1, 1, 1)) / norm * log(norm + 1), 0.) - mu.reshape(-1, 1, 1)).sum(axis=0)\n",
      "/home/student/master-experiments/components/gaussian.py:17: RuntimeWarning: invalid value encountered in divide\n",
      "  -np.square(scale * np.where(norm > 0, (n + np.array([l1, l2]).reshape(-1, 1, 1)) / norm * log(norm + 1), 0.) - mu.reshape(-1, 1, 1)).sum(axis=0)\n",
      "/home/student/master-experiments/components/gaussian.py:17: RuntimeWarning: invalid value encountered in divide\n",
      "  -np.square(scale * np.where(norm > 0, (n + np.array([l1, l2]).reshape(-1, 1, 1)) / norm * log(norm + 1), 0.) - mu.reshape(-1, 1, 1)).sum(axis=0)\n",
      "/home/student/master-experiments/components/gaussian.py:17: RuntimeWarning: invalid value encountered in divide\n",
      "  -np.square(scale * np.where(norm > 0, (n + np.array([l1, l2]).reshape(-1, 1, 1)) / norm * log(norm + 1), 0.) - mu.reshape(-1, 1, 1)).sum(axis=0)\n",
      "/home/student/master-experiments/components/gaussian.py:17: RuntimeWarning: invalid value encountered in divide\n",
      "  -np.square(scale * np.where(norm > 0, (n + np.array([l1, l2]).reshape(-1, 1, 1)) / norm * log(norm + 1), 0.) - mu.reshape(-1, 1, 1)).sum(axis=0)\n",
      "/home/student/master-experiments/components/gaussian.py:17: RuntimeWarning: invalid value encountered in divide\n",
      "  -np.square(scale * np.where(norm > 0, (n + np.array([l1, l2]).reshape(-1, 1, 1)) / norm * log(norm + 1), 0.) - mu.reshape(-1, 1, 1)).sum(axis=0)\n",
      "/home/student/master-experiments/components/gaussian.py:17: RuntimeWarning: invalid value encountered in divide\n",
      "  -np.square(scale * np.where(norm > 0, (n + np.array([l1, l2]).reshape(-1, 1, 1)) / norm * log(norm + 1), 0.) - mu.reshape(-1, 1, 1)).sum(axis=0)\n",
      "/home/student/master-experiments/components/gaussian.py:17: RuntimeWarning: invalid value encountered in divide\n",
      "  -np.square(scale * np.where(norm > 0, (n + np.array([l1, l2]).reshape(-1, 1, 1)) / norm * log(norm + 1), 0.) - mu.reshape(-1, 1, 1)).sum(axis=0)\n",
      "/home/student/master-experiments/components/gaussian.py:17: RuntimeWarning: invalid value encountered in divide\n",
      "  -np.square(scale * np.where(norm > 0, (n + np.array([l1, l2]).reshape(-1, 1, 1)) / norm * log(norm + 1), 0.) - mu.reshape(-1, 1, 1)).sum(axis=0)\n",
      "/home/student/master-experiments/components/gaussian.py:17: RuntimeWarning: invalid value encountered in divide\n",
      "  -np.square(scale * np.where(norm > 0, (n + np.array([l1, l2]).reshape(-1, 1, 1)) / norm * log(norm + 1), 0.) - mu.reshape(-1, 1, 1)).sum(axis=0)\n",
      "/home/student/master-experiments/components/gaussian.py:17: RuntimeWarning: invalid value encountered in divide\n",
      "  -np.square(scale * np.where(norm > 0, (n + np.array([l1, l2]).reshape(-1, 1, 1)) / norm * log(norm + 1), 0.) - mu.reshape(-1, 1, 1)).sum(axis=0)\n",
      "/home/student/master-experiments/components/gaussian.py:17: RuntimeWarning: invalid value encountered in divide\n",
      "  -np.square(scale * np.where(norm > 0, (n + np.array([l1, l2]).reshape(-1, 1, 1)) / norm * log(norm + 1), 0.) - mu.reshape(-1, 1, 1)).sum(axis=0)\n",
      "/home/student/master-experiments/components/gaussian.py:17: RuntimeWarning: invalid value encountered in divide\n",
      "  -np.square(scale * np.where(norm > 0, (n + np.array([l1, l2]).reshape(-1, 1, 1)) / norm * log(norm + 1), 0.) - mu.reshape(-1, 1, 1)).sum(axis=0)\n",
      "/home/student/master-experiments/components/gaussian.py:17: RuntimeWarning: invalid value encountered in divide\n",
      "  -np.square(scale * np.where(norm > 0, (n + np.array([l1, l2]).reshape(-1, 1, 1)) / norm * log(norm + 1), 0.) - mu.reshape(-1, 1, 1)).sum(axis=0)\n",
      "/home/student/master-experiments/components/gaussian.py:17: RuntimeWarning: invalid value encountered in divide\n",
      "  -np.square(scale * np.where(norm > 0, (n + np.array([l1, l2]).reshape(-1, 1, 1)) / norm * log(norm + 1), 0.) - mu.reshape(-1, 1, 1)).sum(axis=0)\n",
      "/home/student/master-experiments/components/gaussian.py:17: RuntimeWarning: invalid value encountered in divide\n",
      "  -np.square(scale * np.where(norm > 0, (n + np.array([l1, l2]).reshape(-1, 1, 1)) / norm * log(norm + 1), 0.) - mu.reshape(-1, 1, 1)).sum(axis=0)\n",
      "/home/student/master-experiments/components/gaussian.py:17: RuntimeWarning: invalid value encountered in divide\n",
      "  -np.square(scale * np.where(norm > 0, (n + np.array([l1, l2]).reshape(-1, 1, 1)) / norm * log(norm + 1), 0.) - mu.reshape(-1, 1, 1)).sum(axis=0)\n",
      "/home/student/master-experiments/components/gaussian.py:17: RuntimeWarning: invalid value encountered in divide\n",
      "  -np.square(scale * np.where(norm > 0, (n + np.array([l1, l2]).reshape(-1, 1, 1)) / norm * log(norm + 1), 0.) - mu.reshape(-1, 1, 1)).sum(axis=0)\n",
      "/home/student/master-experiments/components/gaussian.py:17: RuntimeWarning: invalid value encountered in divide\n",
      "  -np.square(scale * np.where(norm > 0, (n + np.array([l1, l2]).reshape(-1, 1, 1)) / norm * log(norm + 1), 0.) - mu.reshape(-1, 1, 1)).sum(axis=0)\n",
      "/home/student/master-experiments/components/gaussian.py:17: RuntimeWarning: invalid value encountered in divide\n",
      "  -np.square(scale * np.where(norm > 0, (n + np.array([l1, l2]).reshape(-1, 1, 1)) / norm * log(norm + 1), 0.) - mu.reshape(-1, 1, 1)).sum(axis=0)\n",
      "/home/student/master-experiments/components/gaussian.py:17: RuntimeWarning: invalid value encountered in divide\n",
      "  -np.square(scale * np.where(norm > 0, (n + np.array([l1, l2]).reshape(-1, 1, 1)) / norm * log(norm + 1), 0.) - mu.reshape(-1, 1, 1)).sum(axis=0)\n",
      "/home/student/master-experiments/components/gaussian.py:17: RuntimeWarning: invalid value encountered in divide\n",
      "  -np.square(scale * np.where(norm > 0, (n + np.array([l1, l2]).reshape(-1, 1, 1)) / norm * log(norm + 1), 0.) - mu.reshape(-1, 1, 1)).sum(axis=0)\n",
      "/home/student/master-experiments/components/gaussian.py:17: RuntimeWarning: invalid value encountered in divide\n",
      "  -np.square(scale * np.where(norm > 0, (n + np.array([l1, l2]).reshape(-1, 1, 1)) / norm * log(norm + 1), 0.) - mu.reshape(-1, 1, 1)).sum(axis=0)\n",
      "/home/student/master-experiments/components/gaussian.py:17: RuntimeWarning: invalid value encountered in divide\n",
      "  -np.square(scale * np.where(norm > 0, (n + np.array([l1, l2]).reshape(-1, 1, 1)) / norm * log(norm + 1), 0.) - mu.reshape(-1, 1, 1)).sum(axis=0)\n",
      "/home/student/master-experiments/components/gaussian.py:17: RuntimeWarning: invalid value encountered in divide\n",
      "  -np.square(scale * np.where(norm > 0, (n + np.array([l1, l2]).reshape(-1, 1, 1)) / norm * log(norm + 1), 0.) - mu.reshape(-1, 1, 1)).sum(axis=0)\n",
      "/home/student/master-experiments/components/gaussian.py:17: RuntimeWarning: invalid value encountered in divide\n",
      "  -np.square(scale * np.where(norm > 0, (n + np.array([l1, l2]).reshape(-1, 1, 1)) / norm * log(norm + 1), 0.) - mu.reshape(-1, 1, 1)).sum(axis=0)\n",
      "/home/student/master-experiments/components/gaussian.py:17: RuntimeWarning: invalid value encountered in divide\n",
      "  -np.square(scale * np.where(norm > 0, (n + np.array([l1, l2]).reshape(-1, 1, 1)) / norm * log(norm + 1), 0.) - mu.reshape(-1, 1, 1)).sum(axis=0)\n"
     ]
    },
    {
     "ename": "IndexError",
     "evalue": "index 156 is out of bounds for axis 1 with size 156",
     "output_type": "error",
     "traceback": [
      "\u001b[0;31m---------------------------------------------------------------------------\u001b[0m",
      "\u001b[0;31mRemoteTraceback\u001b[0m                           Traceback (most recent call last)",
      "\u001b[0;31mRemoteTraceback\u001b[0m: \n\"\"\"\nTraceback (most recent call last):\n  File \"/usr/lib/python3.10/multiprocessing/pool.py\", line 125, in worker\n    result = (True, func(*args, **kwds))\n  File \"/usr/lib/python3.10/multiprocessing/pool.py\", line 51, in starmapstar\n    return list(itertools.starmap(args[0], args[1]))\n  File \"/home/student/master-experiments/components/cnn_parallell.py\", line 220, in create_coefficients_with_img_and_threshold\n    final_coefs = np.hstack((coefficients[:, theta_indices[0]].max(axis=1).reshape(-1, 1), coefficients[:, theta_indices[1]].max(axis=1).reshape(-1, 1),\nIndexError: index 156 is out of bounds for axis 1 with size 156\n\"\"\"",
      "\nThe above exception was the direct cause of the following exception:\n",
      "\u001b[0;31mIndexError\u001b[0m                                Traceback (most recent call last)",
      "Cell \u001b[0;32mIn[17], line 1\u001b[0m\n\u001b[0;32m----> 1\u001b[0m exp_6_train_transformed_img \u001b[38;5;241m=\u001b[39m \u001b[43mexperiment6_img\u001b[49m\u001b[43m(\u001b[49m\u001b[43mdata_train\u001b[49m\u001b[43m,\u001b[49m\u001b[43m \u001b[49m\u001b[43mthreshold\u001b[49m\u001b[38;5;241;43m=\u001b[39;49m\u001b[38;5;241;43m0.85\u001b[39;49m\u001b[43m)\u001b[49m\n\u001b[1;32m      2\u001b[0m exp_6_test_transformed_img \u001b[38;5;241m=\u001b[39m [experiment6_img(test, threshold\u001b[38;5;241m=\u001b[39m\u001b[38;5;241m0.85\u001b[39m) \u001b[38;5;28;01mfor\u001b[39;00m test \u001b[38;5;129;01min\u001b[39;00m noisy_test]\n",
      "File \u001b[0;32m~/master-experiments/components/cnn_parallell.py:323\u001b[0m, in \u001b[0;36mexperiment6_img\u001b[0;34m(X, grid_scale, grid_radius, threshold)\u001b[0m\n\u001b[1;32m    320\u001b[0m centers \u001b[38;5;241m=\u001b[39m np\u001b[38;5;241m.\u001b[39mrint(grid_scale\u001b[38;5;241m*\u001b[39mhexagon_grid(grid_radius))\n\u001b[1;32m    322\u001b[0m \u001b[38;5;28;01mwith\u001b[39;00m multiprocessing\u001b[38;5;241m.\u001b[39mPool(\u001b[38;5;28mlen\u001b[39m(centers)) \u001b[38;5;28;01mas\u001b[39;00m p:\n\u001b[0;32m--> 323\u001b[0m     manifold \u001b[38;5;241m+\u001b[39m\u001b[38;5;241m=\u001b[39m \u001b[43mp\u001b[49m\u001b[38;5;241;43m.\u001b[39;49m\u001b[43mstarmap\u001b[49m\u001b[43m(\u001b[49m\u001b[43mcreate_coefficients_with_img_and_threshold\u001b[49m\u001b[43m,\u001b[49m\u001b[43m \u001b[49m\u001b[43m[\u001b[49m\u001b[43m(\u001b[49m\u001b[43mX\u001b[49m\u001b[43m,\u001b[49m\u001b[43m \u001b[49m\u001b[43mp\u001b[49m\u001b[43m,\u001b[49m\u001b[43m \u001b[49m\u001b[43mgrid_scale\u001b[49m\u001b[43m,\u001b[49m\u001b[43m \u001b[49m\u001b[43mthreshold\u001b[49m\u001b[43m)\u001b[49m\u001b[43m \u001b[49m\u001b[38;5;28;43;01mfor\u001b[39;49;00m\u001b[43m \u001b[49m\u001b[43mp\u001b[49m\u001b[43m \u001b[49m\u001b[38;5;129;43;01min\u001b[39;49;00m\u001b[43m \u001b[49m\u001b[43mcenters\u001b[49m\u001b[43m]\u001b[49m\u001b[43m)\u001b[49m\n\u001b[1;32m    325\u001b[0m manifold_reshaped \u001b[38;5;241m=\u001b[39m np\u001b[38;5;241m.\u001b[39mhstack([i \u001b[38;5;28;01mfor\u001b[39;00m i \u001b[38;5;129;01min\u001b[39;00m manifold])\n\u001b[1;32m    327\u001b[0m \u001b[38;5;28;01mreturn\u001b[39;00m manifold_reshaped\n",
      "File \u001b[0;32m/usr/lib/python3.10/multiprocessing/pool.py:375\u001b[0m, in \u001b[0;36mPool.starmap\u001b[0;34m(self, func, iterable, chunksize)\u001b[0m\n\u001b[1;32m    369\u001b[0m \u001b[38;5;28;01mdef\u001b[39;00m \u001b[38;5;21mstarmap\u001b[39m(\u001b[38;5;28mself\u001b[39m, func, iterable, chunksize\u001b[38;5;241m=\u001b[39m\u001b[38;5;28;01mNone\u001b[39;00m):\n\u001b[1;32m    370\u001b[0m \u001b[38;5;250m    \u001b[39m\u001b[38;5;124;03m'''\u001b[39;00m\n\u001b[1;32m    371\u001b[0m \u001b[38;5;124;03m    Like `map()` method but the elements of the `iterable` are expected to\u001b[39;00m\n\u001b[1;32m    372\u001b[0m \u001b[38;5;124;03m    be iterables as well and will be unpacked as arguments. Hence\u001b[39;00m\n\u001b[1;32m    373\u001b[0m \u001b[38;5;124;03m    `func` and (a, b) becomes func(a, b).\u001b[39;00m\n\u001b[1;32m    374\u001b[0m \u001b[38;5;124;03m    '''\u001b[39;00m\n\u001b[0;32m--> 375\u001b[0m     \u001b[38;5;28;01mreturn\u001b[39;00m \u001b[38;5;28;43mself\u001b[39;49m\u001b[38;5;241;43m.\u001b[39;49m\u001b[43m_map_async\u001b[49m\u001b[43m(\u001b[49m\u001b[43mfunc\u001b[49m\u001b[43m,\u001b[49m\u001b[43m \u001b[49m\u001b[43miterable\u001b[49m\u001b[43m,\u001b[49m\u001b[43m \u001b[49m\u001b[43mstarmapstar\u001b[49m\u001b[43m,\u001b[49m\u001b[43m \u001b[49m\u001b[43mchunksize\u001b[49m\u001b[43m)\u001b[49m\u001b[38;5;241;43m.\u001b[39;49m\u001b[43mget\u001b[49m\u001b[43m(\u001b[49m\u001b[43m)\u001b[49m\n",
      "File \u001b[0;32m/usr/lib/python3.10/multiprocessing/pool.py:774\u001b[0m, in \u001b[0;36mApplyResult.get\u001b[0;34m(self, timeout)\u001b[0m\n\u001b[1;32m    772\u001b[0m     \u001b[38;5;28;01mreturn\u001b[39;00m \u001b[38;5;28mself\u001b[39m\u001b[38;5;241m.\u001b[39m_value\n\u001b[1;32m    773\u001b[0m \u001b[38;5;28;01melse\u001b[39;00m:\n\u001b[0;32m--> 774\u001b[0m     \u001b[38;5;28;01mraise\u001b[39;00m \u001b[38;5;28mself\u001b[39m\u001b[38;5;241m.\u001b[39m_value\n",
      "\u001b[0;31mIndexError\u001b[0m: index 156 is out of bounds for axis 1 with size 156"
     ]
    }
   ],
   "source": [
    "exp_6_train_transformed_img = experiment6_img(data_train, threshold=0.85)\n",
    "exp_6_test_transformed_img = [experiment6_img(test, threshold=0.85) for test in noisy_test]"
   ]
  },
  {
   "cell_type": "code",
   "execution_count": null,
   "metadata": {},
   "outputs": [],
   "source": [
    "clfs_lr_ex6_img = [LogisticRegression(fit_intercept=True,\n",
    "                                  multi_class='multinomial',\n",
    "                                  penalty='l2',\n",
    "                                  solver='saga',\n",
    "                                  max_iter=1000,\n",
    "                                  n_jobs=64,\n",
    "                                  tol=0.001) for _ in range(len(noises))]\n",
    "\n",
    "lr_noisy_exp6_score_img = score_clfs_noisy(clfs_lr_ex6_img, exp_6_train_transformed_img, y_train, exp_6_test_transformed_img, y_test)\n",
    "scores_noisy_lr.append(lr_noisy_exp6_score_img)\n",
    "lr_noisy_exp6_score_img"
   ]
  },
  {
   "cell_type": "markdown",
   "metadata": {},
   "source": [
    "#### Experiment 7"
   ]
  },
  {
   "cell_type": "code",
   "execution_count": null,
   "metadata": {},
   "outputs": [],
   "source": [
    "exp_7_train_transformed_img = experiment7_img(data_train)\n",
    "exp_7_test_transformed_img = [experiment7_img(test) for test in noisy_test]"
   ]
  },
  {
   "cell_type": "code",
   "execution_count": null,
   "metadata": {},
   "outputs": [],
   "source": [
    "clfs_lr_ex7_img = [LogisticRegression(fit_intercept=True,\n",
    "                                  multi_class='multinomial',\n",
    "                                  penalty='l2',\n",
    "                                  solver='saga',\n",
    "                                  max_iter=1000,\n",
    "                                  n_jobs=64,\n",
    "                                  tol=0.001) for _ in range(len(noises))]\n",
    "\n",
    "lr_noisy_exp7_score_img = score_clfs_noisy(clfs_lr_ex7_img, exp_7_train_transformed_img, y_train, exp_7_test_transformed_img, y_test)\n",
    "scores_noisy_lr.append(lr_noisy_exp7_score_img)\n",
    "lr_noisy_exp7_score_img"
   ]
  },
  {
   "cell_type": "markdown",
   "metadata": {},
   "source": [
    "#### Experiment 8"
   ]
  },
  {
   "cell_type": "code",
   "execution_count": null,
   "metadata": {},
   "outputs": [],
   "source": [
    "exp_8_train_transformed_img = experiment8_img(data_train, threshold=0.85)\n",
    "exp_8_test_transformed_img = [experiment8_img(test, threshold=0.85) for test in noisy_test]"
   ]
  },
  {
   "cell_type": "code",
   "execution_count": null,
   "metadata": {},
   "outputs": [],
   "source": [
    "clfs_lr_ex8_img = [LogisticRegression(fit_intercept=True,\n",
    "                                  multi_class='multinomial',\n",
    "                                  penalty='l2',\n",
    "                                  solver='saga',\n",
    "                                  max_iter=1000,\n",
    "                                  n_jobs=64,\n",
    "                                  tol=0.001) for _ in range(len(noises))]\n",
    "\n",
    "lr_noisy_exp8_score_img = score_clfs_noisy(clfs_lr_ex8_img, exp_8_train_transformed_img, y_train, exp_8_test_transformed_img, y_test)\n",
    "scores_noisy_lr.append(lr_noisy_exp8_score_img)\n",
    "lr_noisy_exp8_score_img"
   ]
  },
  {
   "cell_type": "markdown",
   "metadata": {},
   "source": [
    "### SVM"
   ]
  },
  {
   "cell_type": "code",
   "execution_count": null,
   "metadata": {},
   "outputs": [],
   "source": [
    "scores_noisy_svm = []"
   ]
  },
  {
   "cell_type": "code",
   "execution_count": null,
   "metadata": {},
   "outputs": [],
   "source": [
    "clfs_svm_bl = [SVC(kernel='rbf', C=10., gamma=\"auto\") for _ in range(len(noises))]\n",
    "baseline_svm_scores = score_clfs_noisy(clfs_svm_bl, train_flattened, y_train, noisy_test_flattened, y_test)\n",
    "scores_noisy_svm.append(baseline_svm_scores)\n",
    "baseline_svm_scores"
   ]
  },
  {
   "cell_type": "markdown",
   "metadata": {},
   "source": [
    "#### Baseline - SVM - 0.7 threshold"
   ]
  },
  {
   "cell_type": "code",
   "execution_count": null,
   "metadata": {},
   "outputs": [],
   "source": [
    "clfs_svm_bl_thr1 = [SVC(kernel='rbf', C=10., gamma=\"auto\") for _ in range(len(noises))]\n",
    "\n",
    "train_flattened_threshold1 = np.where(train_flattened > 0.7, train_flattened, 0.)\n",
    "noisy_test_flattened_threshold1 = [np.where(n > 0.7, n, 0.) for n in noisy_test_flattened]\n",
    "\n",
    "baseline_svm_scores_thr1 = score_clfs_noisy(clfs_svm_bl_thr1, train_flattened_threshold1, y_train, noisy_test_flattened_threshold1, y_test)\n",
    "scores_noisy_svm.append(baseline_svm_scores_thr1)\n",
    "baseline_svm_scores_thr1"
   ]
  },
  {
   "cell_type": "markdown",
   "metadata": {},
   "source": [
    "#### Baseline - SVM - 0.85 threshold"
   ]
  },
  {
   "cell_type": "code",
   "execution_count": null,
   "metadata": {},
   "outputs": [],
   "source": [
    "clfs_svm_bl_thr2 = [SVC(kernel='rbf', C=10., gamma=\"auto\") for _ in range(len(noises))]\n",
    "\n",
    "train_flattened_threshold2 = np.where(train_flattened > 0.85, train_flattened, 0.)\n",
    "noisy_test_flattened_threshold2 = [np.where(n > 0.85, n, 0.) for n in noisy_test_flattened]\n",
    "\n",
    "baseline_svm_scores_thr2 = score_clfs_noisy(clfs_svm_bl_thr2, train_flattened_threshold2, y_train, noisy_test_flattened_threshold2, y_test)\n",
    "scores_noisy_svm.append(baseline_svm_scores_thr2)\n",
    "baseline_svm_scores_thr2"
   ]
  },
  {
   "cell_type": "markdown",
   "metadata": {},
   "source": [
    "#### Experiment 4 - Only real filters"
   ]
  },
  {
   "cell_type": "code",
   "execution_count": null,
   "metadata": {},
   "outputs": [],
   "source": [
    "clfs_svm_exp4 = [SVC(kernel='rbf', C=500., gamma=\"auto\") for _ in range(len(noises))]\n",
    "scores_noisy_exp4_svm = score_clfs_noisy(clfs_svm_exp4, exp_4_train_transformed, y_train, exp_4_test_transformed, y_test)\n",
    "scores_noisy_svm.append(scores_noisy_exp4_svm)\n",
    "scores_noisy_exp4_svm"
   ]
  },
  {
   "cell_type": "markdown",
   "metadata": {},
   "source": [
    "#### Experiment 4 - With imaginary filters\n"
   ]
  },
  {
   "cell_type": "code",
   "execution_count": null,
   "metadata": {},
   "outputs": [],
   "source": [
    "clfs_svm_exp4_img = [SVC(kernel='rbf', C=500., gamma=\"auto\") for _ in range(len(noises))]\n",
    "scores_noisy_exp4_svm_img = score_clfs_noisy(clfs_svm_exp4_img, exp_4_train_transformed_img, y_train, exp_4_test_transformed_img, y_test)\n",
    "scores_noisy_svm.append(scores_noisy_exp4_svm_img)\n",
    "scores_noisy_exp4_svm_img"
   ]
  },
  {
   "cell_type": "markdown",
   "metadata": {},
   "source": [
    "#### Experiment 6"
   ]
  },
  {
   "cell_type": "code",
   "execution_count": null,
   "metadata": {},
   "outputs": [],
   "source": [
    "clfs_svm_exp6_img = [SVC(kernel='rbf', C=500., gamma=\"auto\") for _ in range(len(noises))]\n",
    "scores_noisy_exp6_svm_img = score_clfs_noisy(clfs_svm_exp6_img, exp_6_train_transformed_img, y_train, exp_6_test_transformed_img, y_test)\n",
    "scores_noisy_svm.append(scores_noisy_exp6_svm_img)\n",
    "scores_noisy_exp6_svm_img"
   ]
  },
  {
   "cell_type": "markdown",
   "metadata": {},
   "source": [
    "#### Experiment 7\n"
   ]
  },
  {
   "cell_type": "code",
   "execution_count": null,
   "metadata": {},
   "outputs": [],
   "source": [
    "clfs_svm_exp7_img = [SVC(kernel='rbf', C=500., gamma=\"auto\") for _ in range(len(noises))]\n",
    "scores_noisy_exp7_svm_img = score_clfs_noisy(clfs_svm_exp7_img, exp_7_train_transformed_img, y_train, exp_7_test_transformed_img, y_test)\n",
    "scores_noisy_svm.append(scores_noisy_exp7_svm_img)\n",
    "scores_noisy_exp7_svm_img"
   ]
  },
  {
   "cell_type": "markdown",
   "metadata": {},
   "source": [
    "#### Experiment 8"
   ]
  },
  {
   "cell_type": "code",
   "execution_count": null,
   "metadata": {},
   "outputs": [],
   "source": [
    "clfs_svm_exp8_img = [SVC(kernel='rbf', C=500., gamma=\"auto\") for _ in range(len(noises))]\n",
    "scores_noisy_exp8_svm_img = score_clfs_noisy(clfs_svm_exp8_img, exp_8_train_transformed_img, y_train, exp_8_test_transformed_img, y_test)\n",
    "scores_noisy_svm.append(scores_noisy_exp8_svm_img)\n",
    "scores_noisy_exp8_svm_img"
   ]
  },
  {
   "cell_type": "markdown",
   "metadata": {},
   "source": [
    "### KNN"
   ]
  },
  {
   "cell_type": "code",
   "execution_count": null,
   "metadata": {},
   "outputs": [],
   "source": [
    "scores_noisy_knn = []"
   ]
  },
  {
   "cell_type": "markdown",
   "metadata": {},
   "source": [
    "#### Baseline - KNN - No thresholding"
   ]
  },
  {
   "cell_type": "code",
   "execution_count": null,
   "metadata": {},
   "outputs": [],
   "source": [
    "clfs_knn_bl = [KNeighborsClassifier(n_neighbors=5, p=2) for _ in range(len(noises))]\n",
    "baseline_knn_scores = score_clfs_noisy(clfs_knn_bl, train_flattened, y_train, noisy_test_flattened, y_test)\n",
    "scores_noisy_knn.append(baseline_knn_scores)\n",
    "baseline_knn_scores"
   ]
  },
  {
   "cell_type": "markdown",
   "metadata": {},
   "source": [
    "#### Baseline - KNN - 0.7 thresholding"
   ]
  },
  {
   "cell_type": "code",
   "execution_count": null,
   "metadata": {},
   "outputs": [],
   "source": [
    "clfs_knn_bl_thr1 = [KNeighborsClassifier(n_neighbors=5, p=2) for _ in range(len(noises))]\n",
    "baseline_knn_scores_thr1 = score_clfs_noisy(clfs_knn_bl_thr1, train_flattened_threshold1, y_train, noisy_test_flattened_threshold1, y_test)\n",
    "scores_noisy_knn.append(baseline_knn_scores_thr1)\n",
    "baseline_knn_scores_thr1"
   ]
  },
  {
   "cell_type": "markdown",
   "metadata": {},
   "source": [
    "#### Baseline - KNN - 0.85 thresholding"
   ]
  },
  {
   "cell_type": "code",
   "execution_count": null,
   "metadata": {},
   "outputs": [],
   "source": [
    "clfs_knn_bl_thr2 = [KNeighborsClassifier(n_neighbors=5, p=2) for _ in range(len(noises))]\n",
    "baseline_knn_scores_thr2 = score_clfs_noisy(clfs_knn_bl_thr2, train_flattened_threshold2, y_train, noisy_test_flattened_threshold2, y_test)\n",
    "scores_noisy_knn.append(baseline_knn_scores_thr2)\n",
    "baseline_knn_scores_thr2"
   ]
  },
  {
   "cell_type": "markdown",
   "metadata": {},
   "source": [
    "#### Experiment 4 - Only real filters"
   ]
  },
  {
   "cell_type": "code",
   "execution_count": null,
   "metadata": {},
   "outputs": [],
   "source": [
    "clfs_knn_exp4 = [KNeighborsClassifier(n_neighbors=5, p=2) for _ in range(len(noises))]\n",
    "scores_noisy_exp4_knn = score_clfs_noisy(clfs_knn_exp4, exp_4_train_transformed, y_train, exp_4_test_transformed, y_test)\n",
    "scores_noisy_knn.append(scores_noisy_exp4_knn)\n",
    "scores_noisy_exp4_knn"
   ]
  },
  {
   "cell_type": "markdown",
   "metadata": {},
   "source": [
    "#### Experiment 4 - With imaginary filters"
   ]
  },
  {
   "cell_type": "code",
   "execution_count": null,
   "metadata": {},
   "outputs": [],
   "source": [
    "clfs_knn_exp4_img = [KNeighborsClassifier(n_neighbors=5, p=2) for _ in range(len(noises))]\n",
    "scores_noisy_exp4_knn_img = score_clfs_noisy(clfs_knn_exp4_img, exp_4_train_transformed_img, y_train, exp_4_test_transformed_img, y_test)\n",
    "scores_noisy_knn.append(scores_noisy_exp4_knn_img)\n",
    "scores_noisy_exp4_knn_img"
   ]
  },
  {
   "cell_type": "markdown",
   "metadata": {},
   "source": [
    "#### Experiment 6"
   ]
  },
  {
   "cell_type": "code",
   "execution_count": null,
   "metadata": {},
   "outputs": [],
   "source": [
    "clfs_knn_exp6_img = [KNeighborsClassifier(n_neighbors=5, p=2) for _ in range(len(noises))]\n",
    "scores_noisy_exp6_knn_img = score_clfs_noisy(clfs_knn_exp6_img, exp_6_train_transformed_img, y_train, exp_6_test_transformed_img, y_test)\n",
    "scores_noisy_knn.append(scores_noisy_exp6_knn_img)\n",
    "scores_noisy_exp6_knn_img"
   ]
  },
  {
   "cell_type": "markdown",
   "metadata": {},
   "source": [
    "#### Experiment 7"
   ]
  },
  {
   "cell_type": "code",
   "execution_count": null,
   "metadata": {},
   "outputs": [],
   "source": [
    "clfs_knn_exp7_img = [KNeighborsClassifier(n_neighbors=5, p=2) for _ in range(len(noises))]\n",
    "scores_noisy_exp7_knn_img = score_clfs_noisy(clfs_knn_exp7_img, exp_7_train_transformed_img, y_train, exp_7_test_transformed_img, y_test)\n",
    "scores_noisy_knn.append(scores_noisy_exp7_knn_img)\n",
    "scores_noisy_exp7_knn_img"
   ]
  },
  {
   "cell_type": "markdown",
   "metadata": {},
   "source": [
    "#### Experiment 8"
   ]
  },
  {
   "cell_type": "code",
   "execution_count": null,
   "metadata": {},
   "outputs": [],
   "source": [
    "clfs_knn_exp8_img = [KNeighborsClassifier(n_neighbors=5, p=2) for _ in range(len(noises))]\n",
    "scores_noisy_exp8_knn_img = score_clfs_noisy(clfs_knn_exp8_img, exp_8_train_transformed_img, y_train, exp_8_test_transformed_img, y_test)\n",
    "scores_noisy_knn.append(scores_noisy_exp8_knn_img)\n",
    "scores_noisy_exp8_knn_img"
   ]
  }
 ],
 "metadata": {
  "kernelspec": {
   "display_name": "Python 3",
   "language": "python",
   "name": "python3"
  },
  "language_info": {
   "codemirror_mode": {
    "name": "ipython",
    "version": 3
   },
   "file_extension": ".py",
   "mimetype": "text/x-python",
   "name": "python",
   "nbconvert_exporter": "python",
   "pygments_lexer": "ipython3",
   "version": "3.10.12"
  }
 },
 "nbformat": 4,
 "nbformat_minor": 2
}
